{
 "cells": [
  {
   "cell_type": "code",
   "execution_count": 1,
   "metadata": {},
   "outputs": [],
   "source": [
    "import numpy as np\n",
    "import pandas as pd\n",
    "import os\n",
    "from helper_functions import *\n",
    "from herams_helper_functions import *"
   ]
  },
  {
   "cell_type": "code",
   "execution_count": 2,
   "metadata": {},
   "outputs": [],
   "source": [
    "def reorder_columns(data, colnum):\n",
    "    cols = data.columns.tolist()\n",
    "    cols = cols[colnum:] + cols[:colnum]\n",
    "    data = data[cols]\n",
    "    return data"
   ]
  },
  {
   "cell_type": "markdown",
   "metadata": {},
   "source": [
    "### Meningite"
   ]
  },
  {
   "cell_type": "code",
   "execution_count": 3,
   "metadata": {},
   "outputs": [],
   "source": [
    "df = pd.read_excel('data/MLMDO_2020_S_53.xls', sheet_name='Meningite ', header=4)"
   ]
  },
  {
   "cell_type": "code",
   "execution_count": 4,
   "metadata": {},
   "outputs": [],
   "source": [
    "df = df.iloc[:87, :-12]\n",
    "df = clean_string(df, ['REGION', 'DISTRICT'])"
   ]
  },
  {
   "cell_type": "code",
   "execution_count": 5,
   "metadata": {},
   "outputs": [],
   "source": [
    "df.loc[df['REGION'].str.startswith('TOTAL'), 'DISTRICT'] = 'REGION'\n",
    "df.loc[df['REGION'].str.startswith('TOTAL'), 'REGION'] = df['REGION'].str.slice(6,)"
   ]
  },
  {
   "cell_type": "code",
   "execution_count": 6,
   "metadata": {},
   "outputs": [],
   "source": [
    "cercle_replace = {'COMMUNE 1': 'COMMUNE I', 'COMMUNE 2': 'COMMUNE II', 'COMMUNE 3': 'COMMUNE III', 'COMMUNE 4': 'COMMUNE IV', 'COMMUNE 5': 'COMMUNE V', \n",
    "                  'COMMUNE 6': 'COMMUNE VI', 'ACHOURATT': 'ACHOURAT', 'AÏBEBARA': 'ABEIBARA', 'ALMOUSTRAT': 'ALMOUSTARAT', 'AL_OURCH': 'AL-OURCHE',\n",
    "                  'ARAWANE': 'ARAOUANE', 'BARAOUELI': 'BAROUELI', 'GOURMA RHAROUS': 'GOURMA-RHAROUS', 'TAOUDÉNI': 'TAOUDENIT', 'FOUM_ALBA': 'FOUM-ELBA',\n",
    "                  'NIÈNA': 'NIENA', 'TINDERMEN': 'TIDERMENE', 'SÉFETO': 'SEFETO', 'MÉNAKA': 'MENAKA', 'TINESSAKO': 'TIN-ESSAKO'}\n",
    "region_replace = {'SÉGOU': 'SEGOU', 'MÉNAKA': 'MENAKA', 'TAOUDÉNI': 'TAOUDENIT', 'GENERAL': 'MALI'}\n",
    "df = replace_values(df, ['DISTRICT', 'REGION'], [cercle_replace, region_replace])"
   ]
  },
  {
   "cell_type": "code",
   "execution_count": 7,
   "metadata": {},
   "outputs": [],
   "source": [
    "regions = pd.read_csv('data/regions.csv')\n",
    "cercle = pd.read_csv('data/cercle.csv')\n",
    "regions = get_serial_column(regions, ['REGION'], 'RegionIndex')\n",
    "cercle = get_serial_column(cercle, ['RegionIndex', 'CERCLE'], 'CercleIndex')"
   ]
  },
  {
   "cell_type": "code",
   "execution_count": 8,
   "metadata": {},
   "outputs": [],
   "source": [
    "id_var_columns = list(df.columns[:5])\n",
    "value_var_columns = list(df.columns[5:])\n",
    "df_long = pd.melt(df, id_vars=id_var_columns, value_vars=value_var_columns, var_name='INDICATOR', value_name='WEEKLY VALUE')\n",
    "df_long = df_long.sort_values(['REGION', 'DISTRICT', 'INDICATOR'], axis=0)\n",
    "df_long = df_long.reset_index(drop=True)"
   ]
  },
  {
   "cell_type": "code",
   "execution_count": 9,
   "metadata": {},
   "outputs": [],
   "source": [
    "df_long = df_long[(df_long['INDICATOR'] != 'CAS00') & (df_long['REGION'] != 'MALI')]\n",
    "df_reg = df_long[df_long['DISTRICT'] == 'REGION']\n",
    "df_long = df_long[df_long['DISTRICT'] != 'REGION']"
   ]
  },
  {
   "cell_type": "code",
   "execution_count": 10,
   "metadata": {},
   "outputs": [],
   "source": [
    "df_reg = df_reg.drop(['DISTRICT', 'ISOCODE'], axis=1)\n",
    "df_reg = df_reg.reset_index(drop=True)\n",
    "df_reg = merge_columns(df_reg, regions, ['REGION'], ['REGION'], ['REGION'])\n",
    "df_reg = reorder_columns(df_reg, -1)"
   ]
  },
  {
   "cell_type": "code",
   "execution_count": 11,
   "metadata": {},
   "outputs": [],
   "source": [
    "df_long = merge_columns(df_long, regions, ['REGION'], ['REGION'], ['REGION'])\n",
    "df_long = merge_columns(df_long, cercle, ['RegionIndex', 'DISTRICT'], ['RegionIndex', 'CERCLE'], ['CERCLE', 'DISTRICT'])\n",
    "df_long = reorder_columns(df_long, -2)"
   ]
  },
  {
   "cell_type": "code",
   "execution_count": 12,
   "metadata": {},
   "outputs": [],
   "source": [
    "df_reg.to_csv('data/region_meningite.csv', index=False)\n",
    "df_long.to_csv('data/meningite.csv', index=False)"
   ]
  },
  {
   "cell_type": "markdown",
   "metadata": {},
   "source": [
    "### Rougeole"
   ]
  },
  {
   "cell_type": "code",
   "execution_count": 13,
   "metadata": {},
   "outputs": [],
   "source": [
    "df = pd.read_excel('data/MLMDO_2020_S_53.xls', sheet_name='Rougeole', header=3)"
   ]
  },
  {
   "cell_type": "code",
   "execution_count": 14,
   "metadata": {},
   "outputs": [],
   "source": [
    "df = df.iloc[:87, :-10]\n",
    "df = clean_string(df, ['REGION', 'DISTRICT'])"
   ]
  },
  {
   "cell_type": "code",
   "execution_count": 15,
   "metadata": {},
   "outputs": [],
   "source": [
    "df.loc[df['REGION'].str.startswith('TOTAL'), 'DISTRICT'] = 'REGION'\n",
    "df.loc[df['REGION'].str.startswith('TOTAL'), 'REGION'] = df['REGION'].str.slice(6,)"
   ]
  },
  {
   "cell_type": "code",
   "execution_count": 16,
   "metadata": {},
   "outputs": [],
   "source": [
    "df = replace_values(df, ['DISTRICT', 'REGION'], [cercle_replace, region_replace])"
   ]
  },
  {
   "cell_type": "code",
   "execution_count": 17,
   "metadata": {},
   "outputs": [],
   "source": [
    "id_var_columns = list(df.columns[:5])\n",
    "value_var_columns = list(df.columns[5:])\n",
    "df_long = pd.melt(df, id_vars=id_var_columns, value_vars=value_var_columns, var_name='INDICATOR', value_name='WEEKLY VALUE')\n",
    "df_long = df_long.sort_values(['REGION', 'DISTRICT', 'INDICATOR'], axis=0)\n",
    "df_long = df_long.reset_index(drop=True)"
   ]
  },
  {
   "cell_type": "code",
   "execution_count": 18,
   "metadata": {},
   "outputs": [],
   "source": [
    "df_long = df_long[(df_long['REGION'] != 'MALI')]\n",
    "df_reg = df_long[df_long['DISTRICT'] == 'REGION']\n",
    "df_long = df_long[df_long['DISTRICT'] != 'REGION']"
   ]
  },
  {
   "cell_type": "code",
   "execution_count": 19,
   "metadata": {},
   "outputs": [],
   "source": [
    "df_reg = df_reg.drop(['DISTRICT', 'ISOCODE'], axis=1)\n",
    "df_reg = df_reg.reset_index(drop=True)\n",
    "df_reg = merge_columns(df_reg, regions, ['REGION'], ['REGION'], ['REGION'])\n",
    "df_reg = reorder_columns(df_reg, -1)"
   ]
  },
  {
   "cell_type": "code",
   "execution_count": 20,
   "metadata": {},
   "outputs": [],
   "source": [
    "df_long = merge_columns(df_long, regions, ['REGION'], ['REGION'], ['REGION'])\n",
    "df_long = merge_columns(df_long, cercle, ['RegionIndex', 'DISTRICT'], ['RegionIndex', 'CERCLE'], ['CERCLE', 'DISTRICT'])\n",
    "df_long = reorder_columns(df_long, -2)"
   ]
  },
  {
   "cell_type": "code",
   "execution_count": 21,
   "metadata": {},
   "outputs": [],
   "source": [
    "df_reg.to_csv('data/region_rougeole.csv', index=False)\n",
    "df_long.to_csv('data/rougeole.csv', index=False)"
   ]
  },
  {
   "cell_type": "markdown",
   "metadata": {},
   "source": [
    "### Fièvre Jaune"
   ]
  },
  {
   "cell_type": "code",
   "execution_count": 22,
   "metadata": {},
   "outputs": [],
   "source": [
    "df = pd.read_excel('data/MLMDO_2020_S_53.xls', sheet_name='Fièvre Jaune', header=4)"
   ]
  },
  {
   "cell_type": "code",
   "execution_count": 23,
   "metadata": {},
   "outputs": [],
   "source": [
    "df = df.iloc[:87, :-15]\n",
    "df = clean_string(df, ['REGION', 'DISTRICT'])"
   ]
  },
  {
   "cell_type": "code",
   "execution_count": 24,
   "metadata": {},
   "outputs": [],
   "source": [
    "df.loc[df['REGION'].str.startswith('TOTAL'), 'DISTRICT'] = 'REGION'\n",
    "df.loc[df['REGION'].str.startswith('TOTAL'), 'REGION'] = df['REGION'].str.slice(6,)\n",
    "df = replace_values(df, ['DISTRICT', 'REGION'], [cercle_replace, region_replace])"
   ]
  },
  {
   "cell_type": "code",
   "execution_count": 25,
   "metadata": {},
   "outputs": [],
   "source": [
    "id_var_columns = list(df.columns[:5])\n",
    "value_var_columns = list(df.columns[5:])\n",
    "df_long = pd.melt(df, id_vars=id_var_columns, value_vars=value_var_columns, var_name='INDICATOR', value_name='WEEKLY VALUE')\n",
    "df_long = df_long.sort_values(['REGION', 'DISTRICT', 'INDICATOR'], axis=0)\n",
    "df_long = df_long.reset_index(drop=True)"
   ]
  },
  {
   "cell_type": "code",
   "execution_count": 26,
   "metadata": {},
   "outputs": [],
   "source": [
    "df_long = df_long[(df_long['INDICATOR'] != 'CAS00') & (df_long['REGION'] != 'MALI')]\n",
    "df_reg = df_long[df_long['DISTRICT'] == 'REGION']\n",
    "df_long = df_long[df_long['DISTRICT'] != 'REGION']"
   ]
  },
  {
   "cell_type": "code",
   "execution_count": 27,
   "metadata": {},
   "outputs": [],
   "source": [
    "df_reg = df_reg.drop(['DISTRICT', 'ISOCODE'], axis=1)\n",
    "df_reg = df_reg.reset_index(drop=True)\n",
    "df_reg = merge_columns(df_reg, regions, ['REGION'], ['REGION'], ['REGION'])\n",
    "df_reg = reorder_columns(df_reg, -1)"
   ]
  },
  {
   "cell_type": "code",
   "execution_count": 28,
   "metadata": {},
   "outputs": [],
   "source": [
    "df_long = merge_columns(df_long, regions, ['REGION'], ['REGION'], ['REGION'])\n",
    "df_long = merge_columns(df_long, cercle, ['RegionIndex', 'DISTRICT'], ['RegionIndex', 'CERCLE'], ['CERCLE', 'DISTRICT'])\n",
    "df_long = reorder_columns(df_long, -2)"
   ]
  },
  {
   "cell_type": "code",
   "execution_count": 29,
   "metadata": {},
   "outputs": [],
   "source": [
    "df_reg.to_csv('data/region_fievre_jaune.csv', index=False)\n",
    "df_long.to_csv('data/fievre_jaune.csv', index=False)"
   ]
  },
  {
   "cell_type": "markdown",
   "metadata": {},
   "source": [
    "### Cholera"
   ]
  },
  {
   "cell_type": "code",
   "execution_count": 30,
   "metadata": {},
   "outputs": [],
   "source": [
    "df = pd.read_excel('data/MLMDO_2020_S_53.xls', sheet_name='Cholera ', header=4)"
   ]
  },
  {
   "cell_type": "code",
   "execution_count": 31,
   "metadata": {},
   "outputs": [],
   "source": [
    "df = df.iloc[:87, :-4]\n",
    "df = clean_string(df, ['REGION', 'DISTRICT'])"
   ]
  },
  {
   "cell_type": "code",
   "execution_count": 32,
   "metadata": {},
   "outputs": [],
   "source": [
    "df.loc[df['REGION'].str.startswith('TOTAL'), 'DISTRICT'] = 'REGION'\n",
    "df.loc[df['REGION'].str.startswith('TOTAL'), 'REGION'] = df['REGION'].str.slice(6,)\n",
    "df = replace_values(df, ['DISTRICT', 'REGION'], [cercle_replace, region_replace])"
   ]
  },
  {
   "cell_type": "code",
   "execution_count": 33,
   "metadata": {},
   "outputs": [],
   "source": [
    "id_var_columns = list(df.columns[:5])\n",
    "value_var_columns = list(df.columns[5:])\n",
    "df_long = pd.melt(df, id_vars=id_var_columns, value_vars=value_var_columns, var_name='INDICATOR', value_name='WEEKLY VALUE')\n",
    "df_long = df_long.sort_values(['REGION', 'DISTRICT', 'INDICATOR'], axis=0)\n",
    "df_long = df_long.reset_index(drop=True)"
   ]
  },
  {
   "cell_type": "code",
   "execution_count": 34,
   "metadata": {},
   "outputs": [],
   "source": [
    "df_long = df_long[(df_long['INDICATOR'] != 'CAS00') & (df_long['REGION'] != 'MALI')]\n",
    "df_reg = df_long[df_long['DISTRICT'] == 'REGION']\n",
    "df_long = df_long[df_long['DISTRICT'] != 'REGION']\n",
    "df_reg = df_reg.drop(['DISTRICT', 'ISOCODE'], axis=1)\n",
    "df_reg = df_reg.reset_index(drop=True)\n",
    "df_reg = merge_columns(df_reg, regions, ['REGION'], ['REGION'], ['REGION'])\n",
    "df_reg = reorder_columns(df_reg, -1)\n",
    "df_long = merge_columns(df_long, regions, ['REGION'], ['REGION'], ['REGION'])\n",
    "df_long = merge_columns(df_long, cercle, ['RegionIndex', 'DISTRICT'], ['RegionIndex', 'CERCLE'], ['CERCLE', 'DISTRICT'])\n",
    "df_long = reorder_columns(df_long, -2)"
   ]
  },
  {
   "cell_type": "code",
   "execution_count": 35,
   "metadata": {},
   "outputs": [],
   "source": [
    "df_reg.to_csv('data/region_cholera.csv', index=False)\n",
    "df_long.to_csv('data/cholera.csv', index=False)"
   ]
  },
  {
   "cell_type": "markdown",
   "metadata": {},
   "source": [
    "### Rage Humaine"
   ]
  },
  {
   "cell_type": "code",
   "execution_count": 36,
   "metadata": {},
   "outputs": [],
   "source": [
    "df = pd.read_excel('data/MLMDO_2020_S_53.xls', sheet_name='Rage Humaine ', header=4)"
   ]
  },
  {
   "cell_type": "code",
   "execution_count": 37,
   "metadata": {},
   "outputs": [],
   "source": [
    "df = df.iloc[:87, :-4]\n",
    "df = clean_string(df, ['REGION', 'DISTRICT'])"
   ]
  },
  {
   "cell_type": "code",
   "execution_count": 38,
   "metadata": {},
   "outputs": [],
   "source": [
    "df.loc[df['REGION'].str.startswith('TOTAL'), 'DISTRICT'] = 'REGION'\n",
    "df.loc[df['REGION'].str.startswith('TOTAL'), 'REGION'] = df['REGION'].str.slice(6,)\n",
    "df = replace_values(df, ['DISTRICT', 'REGION'], [cercle_replace, region_replace])\n",
    "id_var_columns = list(df.columns[:5])\n",
    "value_var_columns = list(df.columns[5:])\n",
    "df_long = pd.melt(df, id_vars=id_var_columns, value_vars=value_var_columns, var_name='INDICATOR', value_name='WEEKLY VALUE')\n",
    "df_long = df_long.sort_values(['REGION', 'DISTRICT', 'INDICATOR'], axis=0)\n",
    "df_long = df_long.reset_index(drop=True)"
   ]
  },
  {
   "cell_type": "code",
   "execution_count": 39,
   "metadata": {},
   "outputs": [],
   "source": [
    "df_long = df_long[(df_long['INDICATOR'] != 'CAS00') & (df_long['REGION'] != 'MALI')]\n",
    "df_reg = df_long[df_long['DISTRICT'] == 'REGION']\n",
    "df_long = df_long[df_long['DISTRICT'] != 'REGION']\n",
    "df_reg = df_reg.drop(['DISTRICT', 'ISOCODE'], axis=1)\n",
    "df_reg = df_reg.reset_index(drop=True)\n",
    "df_reg = merge_columns(df_reg, regions, ['REGION'], ['REGION'], ['REGION'])\n",
    "df_reg = reorder_columns(df_reg, -1)\n",
    "df_long = merge_columns(df_long, regions, ['REGION'], ['REGION'], ['REGION'])\n",
    "df_long = merge_columns(df_long, cercle, ['RegionIndex', 'DISTRICT'], ['RegionIndex', 'CERCLE'], ['CERCLE', 'DISTRICT'])\n",
    "df_long = reorder_columns(df_long, -2)"
   ]
  },
  {
   "cell_type": "code",
   "execution_count": 40,
   "metadata": {},
   "outputs": [],
   "source": [
    "df_reg.to_csv('data/region_rage_humaine.csv', index=False)\n",
    "df_long.to_csv('data/rage_humaine.csv', index=False)"
   ]
  },
  {
   "cell_type": "markdown",
   "metadata": {},
   "source": [
    "### Charbon"
   ]
  },
  {
   "cell_type": "code",
   "execution_count": 41,
   "metadata": {},
   "outputs": [],
   "source": [
    "df = pd.read_excel('data/MLMDO_2020_S_53.xls', sheet_name='Charbon', header=3)"
   ]
  },
  {
   "cell_type": "code",
   "execution_count": 42,
   "metadata": {},
   "outputs": [],
   "source": [
    "df = df.iloc[:87, :-4]\n",
    "df = clean_string(df, ['REGION', 'DISTRICT'])"
   ]
  },
  {
   "cell_type": "code",
   "execution_count": 43,
   "metadata": {},
   "outputs": [],
   "source": [
    "df.loc[df['REGION'].str.startswith('TOTAL'), 'DISTRICT'] = 'REGION'\n",
    "df.loc[df['REGION'].str.startswith('TOTAL'), 'REGION'] = df['REGION'].str.slice(6,)\n",
    "df = replace_values(df, ['DISTRICT', 'REGION'], [cercle_replace, region_replace])\n",
    "id_var_columns = list(df.columns[:5])\n",
    "value_var_columns = list(df.columns[5:])\n",
    "df_long = pd.melt(df, id_vars=id_var_columns, value_vars=value_var_columns, var_name='INDICATOR', value_name='WEEKLY VALUE')\n",
    "df_long = df_long.sort_values(['REGION', 'DISTRICT', 'INDICATOR'], axis=0)\n",
    "df_long = df_long.reset_index(drop=True)"
   ]
  },
  {
   "cell_type": "code",
   "execution_count": 44,
   "metadata": {},
   "outputs": [],
   "source": [
    "df_long = df_long[(df_long['INDICATOR'] != 'CAS00') & (df_long['REGION'] != 'MALI')]\n",
    "df_reg = df_long[df_long['DISTRICT'] == 'REGION']\n",
    "df_long = df_long[df_long['DISTRICT'] != 'REGION']\n",
    "df_reg = df_reg.drop(['DISTRICT', 'ISOCODE'], axis=1)\n",
    "df_reg = df_reg.reset_index(drop=True)\n",
    "df_reg = merge_columns(df_reg, regions, ['REGION'], ['REGION'], ['REGION'])\n",
    "df_reg = reorder_columns(df_reg, -1)\n",
    "df_long = merge_columns(df_long, regions, ['REGION'], ['REGION'], ['REGION'])\n",
    "df_long = merge_columns(df_long, cercle, ['RegionIndex', 'DISTRICT'], ['RegionIndex', 'CERCLE'], ['CERCLE', 'DISTRICT'])\n",
    "df_long = reorder_columns(df_long, -2)"
   ]
  },
  {
   "cell_type": "code",
   "execution_count": 45,
   "metadata": {},
   "outputs": [],
   "source": [
    "df_reg.to_csv('data/region_charbon.csv', index=False)\n",
    "df_long.to_csv('data/charbon.csv', index=False)"
   ]
  },
  {
   "cell_type": "markdown",
   "metadata": {},
   "source": [
    "### Piqures Serpents "
   ]
  },
  {
   "cell_type": "code",
   "execution_count": 46,
   "metadata": {},
   "outputs": [],
   "source": [
    "df = pd.read_excel('data/MLMDO_2020_S_53.xls', sheet_name='piqures Serpents ', header=3)"
   ]
  },
  {
   "cell_type": "code",
   "execution_count": 47,
   "metadata": {},
   "outputs": [],
   "source": [
    "df = df.iloc[:87, :-4]\n",
    "df = clean_string(df, ['REGION', 'DISTRICT'])"
   ]
  },
  {
   "cell_type": "code",
   "execution_count": 48,
   "metadata": {},
   "outputs": [],
   "source": [
    "df.loc[df['REGION'].str.startswith('TOTAL'), 'DISTRICT'] = 'REGION'\n",
    "df.loc[df['REGION'].str.startswith('TOTAL'), 'REGION'] = df['REGION'].str.slice(6,)\n",
    "df = replace_values(df, ['DISTRICT', 'REGION'], [cercle_replace, region_replace])\n",
    "id_var_columns = list(df.columns[:5])\n",
    "value_var_columns = list(df.columns[5:])\n",
    "df_long = pd.melt(df, id_vars=id_var_columns, value_vars=value_var_columns, var_name='INDICATOR', value_name='WEEKLY VALUE')\n",
    "df_long = df_long.sort_values(['REGION', 'DISTRICT', 'INDICATOR'], axis=0)\n",
    "df_long = df_long.reset_index(drop=True)\n",
    "df_long = df_long[(df_long['INDICATOR'] != 'CAS00') & (df_long['REGION'] != 'MALI')]\n",
    "df_reg = df_long[df_long['DISTRICT'] == 'REGION']\n",
    "df_long = df_long[df_long['DISTRICT'] != 'REGION']\n",
    "df_reg = df_reg.drop(['DISTRICT', 'ISOCODE'], axis=1)\n",
    "df_reg = df_reg.reset_index(drop=True)\n",
    "df_reg = merge_columns(df_reg, regions, ['REGION'], ['REGION'], ['REGION'])\n",
    "df_reg = reorder_columns(df_reg, -1)\n",
    "df_long = merge_columns(df_long, regions, ['REGION'], ['REGION'], ['REGION'])\n",
    "df_long = merge_columns(df_long, cercle, ['RegionIndex', 'DISTRICT'], ['RegionIndex', 'CERCLE'], ['CERCLE', 'DISTRICT'])\n",
    "df_long = reorder_columns(df_long, -2)"
   ]
  },
  {
   "cell_type": "code",
   "execution_count": 49,
   "metadata": {},
   "outputs": [],
   "source": [
    "df_reg.to_csv('data/region_piqures_serpents.csv', index=False)\n",
    "df_long.to_csv('data/piqures_serpents.csv', index=False)"
   ]
  },
  {
   "cell_type": "markdown",
   "metadata": {},
   "source": [
    "###  Morssures Chien "
   ]
  },
  {
   "cell_type": "code",
   "execution_count": 50,
   "metadata": {},
   "outputs": [],
   "source": [
    "df = pd.read_excel('data/MLMDO_2020_S_53.xls', sheet_name=' Morssures Chien ', header=3)"
   ]
  },
  {
   "cell_type": "code",
   "execution_count": 51,
   "metadata": {},
   "outputs": [],
   "source": [
    "df = df.iloc[:87, :-4]\n",
    "df = clean_string(df, ['REGION', 'DISTRICT'])"
   ]
  },
  {
   "cell_type": "code",
   "execution_count": 52,
   "metadata": {},
   "outputs": [],
   "source": [
    "df.loc[df['REGION'].str.startswith('TOTAL'), 'DISTRICT'] = 'REGION'\n",
    "df.loc[df['REGION'].str.startswith('TOTAL'), 'REGION'] = df['REGION'].str.slice(6,)\n",
    "df = replace_values(df, ['DISTRICT', 'REGION'], [cercle_replace, region_replace])\n",
    "id_var_columns = list(df.columns[:5])\n",
    "value_var_columns = list(df.columns[5:])\n",
    "df_long = pd.melt(df, id_vars=id_var_columns, value_vars=value_var_columns, var_name='INDICATOR', value_name='WEEKLY VALUE')\n",
    "df_long = df_long.sort_values(['REGION', 'DISTRICT', 'INDICATOR'], axis=0)\n",
    "df_long = df_long.reset_index(drop=True)\n",
    "df_long = df_long[(df_long['INDICATOR'] != 'CAS00') & (df_long['REGION'] != 'MALI')]\n",
    "df_reg = df_long[df_long['DISTRICT'] == 'REGION']\n",
    "df_long = df_long[df_long['DISTRICT'] != 'REGION']\n",
    "df_reg = df_reg.drop(['DISTRICT', 'ISOCODE'], axis=1)\n",
    "df_reg = df_reg.reset_index(drop=True)\n",
    "df_reg = merge_columns(df_reg, regions, ['REGION'], ['REGION'], ['REGION'])\n",
    "df_reg = reorder_columns(df_reg, -1)\n",
    "df_long = merge_columns(df_long, regions, ['REGION'], ['REGION'], ['REGION'])\n",
    "df_long = merge_columns(df_long, cercle, ['RegionIndex', 'DISTRICT'], ['RegionIndex', 'CERCLE'], ['CERCLE', 'DISTRICT'])\n",
    "df_long = reorder_columns(df_long, -2)"
   ]
  },
  {
   "cell_type": "code",
   "execution_count": 53,
   "metadata": {},
   "outputs": [],
   "source": [
    "df_reg.to_csv('data/region_morssures_chien.csv', index=False)\n",
    "df_long.to_csv('data/morssures_chien.csv', index=False)"
   ]
  },
  {
   "cell_type": "markdown",
   "metadata": {},
   "source": [
    "### Piqures Scorpion "
   ]
  },
  {
   "cell_type": "code",
   "execution_count": 54,
   "metadata": {},
   "outputs": [],
   "source": [
    "df = pd.read_excel('data/MLMDO_2020_S_53.xls', sheet_name='piqures Scorpion ', header=3)"
   ]
  },
  {
   "cell_type": "code",
   "execution_count": 55,
   "metadata": {},
   "outputs": [],
   "source": [
    "df = df.iloc[:87, :-4]\n",
    "df = clean_string(df, ['REGION', 'DISTRICT'])"
   ]
  },
  {
   "cell_type": "code",
   "execution_count": 56,
   "metadata": {},
   "outputs": [],
   "source": [
    "df.loc[df['REGION'].str.startswith('TOTAL'), 'DISTRICT'] = 'REGION'\n",
    "df.loc[df['REGION'].str.startswith('TOTAL'), 'REGION'] = df['REGION'].str.slice(6,)\n",
    "df = replace_values(df, ['DISTRICT', 'REGION'], [cercle_replace, region_replace])\n",
    "id_var_columns = list(df.columns[:5])\n",
    "value_var_columns = list(df.columns[5:])\n",
    "df_long = pd.melt(df, id_vars=id_var_columns, value_vars=value_var_columns, var_name='INDICATOR', value_name='WEEKLY VALUE')\n",
    "df_long = df_long.sort_values(['REGION', 'DISTRICT', 'INDICATOR'], axis=0)\n",
    "df_long = df_long.reset_index(drop=True)\n",
    "df_long = df_long[(df_long['INDICATOR'] != 'CAS00') & (df_long['REGION'] != 'MALI')]\n",
    "df_reg = df_long[df_long['DISTRICT'] == 'REGION']\n",
    "df_long = df_long[df_long['DISTRICT'] != 'REGION']\n",
    "df_reg = df_reg.drop(['DISTRICT', 'ISOCODE'], axis=1)\n",
    "df_reg = df_reg.reset_index(drop=True)\n",
    "df_reg = merge_columns(df_reg, regions, ['REGION'], ['REGION'], ['REGION'])\n",
    "df_reg = reorder_columns(df_reg, -1)\n",
    "df_long = merge_columns(df_long, regions, ['REGION'], ['REGION'], ['REGION'])\n",
    "df_long = merge_columns(df_long, cercle, ['RegionIndex', 'DISTRICT'], ['RegionIndex', 'CERCLE'], ['CERCLE', 'DISTRICT'])\n",
    "df_long = reorder_columns(df_long, -2)"
   ]
  },
  {
   "cell_type": "code",
   "execution_count": 57,
   "metadata": {},
   "outputs": [],
   "source": [
    "df_reg.to_csv('data/region_piqures_scorpion.csv', index=False)\n",
    "df_long.to_csv('data/piqures_scorpion.csv', index=False)"
   ]
  },
  {
   "cell_type": "markdown",
   "metadata": {},
   "source": [
    "### Diarrhée rouge"
   ]
  },
  {
   "cell_type": "code",
   "execution_count": 58,
   "metadata": {},
   "outputs": [],
   "source": [
    "df = pd.read_excel('data/MLMDO_2020_S_53.xls', sheet_name='Diarrhée rouge', header=3)"
   ]
  },
  {
   "cell_type": "code",
   "execution_count": 59,
   "metadata": {},
   "outputs": [],
   "source": [
    "df = df.iloc[:87, :-4]\n",
    "df = clean_string(df, ['REGION', 'DISTRICT'])"
   ]
  },
  {
   "cell_type": "code",
   "execution_count": 60,
   "metadata": {},
   "outputs": [],
   "source": [
    "df.loc[df['REGION'].str.startswith('TOTAL'), 'DISTRICT'] = 'REGION'\n",
    "df.loc[df['REGION'].str.startswith('TOTAL'), 'REGION'] = df['REGION'].str.slice(6,)\n",
    "df = replace_values(df, ['DISTRICT', 'REGION'], [cercle_replace, region_replace])\n",
    "id_var_columns = list(df.columns[:5])\n",
    "value_var_columns = list(df.columns[5:])\n",
    "df_long = pd.melt(df, id_vars=id_var_columns, value_vars=value_var_columns, var_name='INDICATOR', value_name='WEEKLY VALUE')\n",
    "df_long = df_long.sort_values(['REGION', 'DISTRICT', 'INDICATOR'], axis=0)\n",
    "df_long = df_long.reset_index(drop=True)\n",
    "df_long = df_long[(df_long['INDICATOR'] != 'CAS00') & (df_long['REGION'] != 'MALI')]\n",
    "df_reg = df_long[df_long['DISTRICT'] == 'REGION']\n",
    "df_long = df_long[df_long['DISTRICT'] != 'REGION']\n",
    "df_reg = df_reg.drop(['DISTRICT', 'ISOCODE'], axis=1)\n",
    "df_reg = df_reg.reset_index(drop=True)\n",
    "df_reg = merge_columns(df_reg, regions, ['REGION'], ['REGION'], ['REGION'])\n",
    "df_reg = reorder_columns(df_reg, -1)\n",
    "df_long = merge_columns(df_long, regions, ['REGION'], ['REGION'], ['REGION'])\n",
    "df_long = merge_columns(df_long, cercle, ['RegionIndex', 'DISTRICT'], ['RegionIndex', 'CERCLE'], ['CERCLE', 'DISTRICT'])\n",
    "df_long = reorder_columns(df_long, -2)"
   ]
  },
  {
   "cell_type": "code",
   "execution_count": 61,
   "metadata": {},
   "outputs": [],
   "source": [
    "df_reg.to_csv('data/region_diarhee_rouge.csv', index=False)\n",
    "df_long.to_csv('data/diarhee_rouge.csv', index=False)"
   ]
  },
  {
   "cell_type": "markdown",
   "metadata": {},
   "source": [
    "### COVID-19"
   ]
  },
  {
   "cell_type": "code",
   "execution_count": 62,
   "metadata": {},
   "outputs": [],
   "source": [
    "df = pd.read_excel('data/MLMDO_2020_S_53.xls', sheet_name='COVID19', header=3)"
   ]
  },
  {
   "cell_type": "code",
   "execution_count": 63,
   "metadata": {},
   "outputs": [],
   "source": [
    "df = df.iloc[:87, :-7]\n",
    "df = clean_string(df, ['REGION', 'DISTRICT'])"
   ]
  },
  {
   "cell_type": "code",
   "execution_count": 64,
   "metadata": {},
   "outputs": [],
   "source": [
    "df.loc[df['REGION'].str.startswith('TOTAL'), 'DISTRICT'] = 'REGION'\n",
    "df.loc[df['REGION'].str.startswith('TOTAL'), 'REGION'] = df['REGION'].str.slice(6,)\n",
    "df = replace_values(df, ['DISTRICT', 'REGION'], [cercle_replace, region_replace])\n",
    "id_var_columns = list(df.columns[:5])\n",
    "value_var_columns = list(df.columns[5:])\n",
    "df_long = pd.melt(df, id_vars=id_var_columns, value_vars=value_var_columns, var_name='INDICATOR', value_name='WEEKLY VALUE')\n",
    "df_long = df_long.sort_values(['REGION', 'DISTRICT', 'INDICATOR'], axis=0)\n",
    "df_long = df_long.reset_index(drop=True)\n",
    "df_long = df_long[(df_long['INDICATOR'] != 'CAS00') & (df_long['REGION'] != 'MALI')]\n",
    "df_reg = df_long[df_long['DISTRICT'] == 'REGION']\n",
    "df_long = df_long[df_long['DISTRICT'] != 'REGION']\n",
    "df_reg = df_reg.drop(['DISTRICT', 'ISOCODE'], axis=1)\n",
    "df_reg = df_reg.reset_index(drop=True)\n",
    "df_reg = merge_columns(df_reg, regions, ['REGION'], ['REGION'], ['REGION'])\n",
    "df_reg = reorder_columns(df_reg, -1)\n",
    "df_long = merge_columns(df_long, regions, ['REGION'], ['REGION'], ['REGION'])\n",
    "df_long = merge_columns(df_long, cercle, ['RegionIndex', 'DISTRICT'], ['RegionIndex', 'CERCLE'], ['CERCLE', 'DISTRICT'])\n",
    "df_long = reorder_columns(df_long, -2)"
   ]
  },
  {
   "cell_type": "code",
   "execution_count": 65,
   "metadata": {},
   "outputs": [],
   "source": [
    "df_reg.to_csv('data/region_covid19.csv', index=False)\n",
    "df_long.to_csv('data/covid19.csv', index=False)"
   ]
  },
  {
   "cell_type": "markdown",
   "metadata": {},
   "source": [
    "### PFA"
   ]
  },
  {
   "cell_type": "code",
   "execution_count": 66,
   "metadata": {},
   "outputs": [],
   "source": [
    "df = pd.read_excel('data/MLMDO_2020_S_53.xls', sheet_name='PFA', header=3)"
   ]
  },
  {
   "cell_type": "code",
   "execution_count": 67,
   "metadata": {},
   "outputs": [],
   "source": [
    "df = df.rename(columns={'Region': 'REGION', 'Districts Sanitaires': 'DISTRICT', 'Population': 'POP'})"
   ]
  },
  {
   "cell_type": "code",
   "execution_count": 68,
   "metadata": {},
   "outputs": [],
   "source": [
    "df = df.iloc[:87, :-5]\n",
    "df = clean_string(df, ['REGION', 'DISTRICT'])"
   ]
  },
  {
   "cell_type": "code",
   "execution_count": 69,
   "metadata": {},
   "outputs": [],
   "source": [
    "df.loc[df['DISTRICT'].str.startswith('TOTAL'), 'DISTRICT'] = 'REGION'"
   ]
  },
  {
   "cell_type": "code",
   "execution_count": 70,
   "metadata": {},
   "outputs": [],
   "source": [
    "cercle_replace_ = {'ACHOURATT': 'ACHOURAT', 'ALMOUSTRAT': 'ALMOUSTARAT', 'AL-OURCH': 'AL-OURCHE', 'ARAWANE': 'ARAOUANE', 'BARAOUELI': 'BAROUELI', \n",
    "                   'TAOUDÉNIT': 'TAOUDENIT', 'FOUM_ALBA': 'FOUM-ELBA', 'TINDERMEN': 'TIDERMENE', 'MÉNAKA': 'MENAKA', 'SAGABARY': 'SAGABARI',\n",
    "                   'BADIANGARA': 'BANDIAGARA', 'TENINKOU': 'TENENKOU'}"
   ]
  },
  {
   "cell_type": "code",
   "execution_count": 71,
   "metadata": {},
   "outputs": [],
   "source": [
    "df = replace_values(df, ['DISTRICT'], [cercle_replace_])"
   ]
  },
  {
   "cell_type": "code",
   "execution_count": 72,
   "metadata": {},
   "outputs": [],
   "source": [
    "id_var_columns = list(df.columns[:3])\n",
    "value_var_columns = list(df.columns[3:])\n",
    "df_long = pd.melt(df, id_vars=id_var_columns, value_vars=value_var_columns, var_name='SEMAINE', value_name='CAS')\n",
    "df_long = df_long.sort_values(['REGION', 'DISTRICT', 'SEMAINE'], axis=0)\n",
    "df_long = df_long.reset_index(drop=True)"
   ]
  },
  {
   "cell_type": "code",
   "execution_count": 73,
   "metadata": {},
   "outputs": [],
   "source": [
    "assert df_long.REGION.nunique() == 12\n",
    "assert df_long.DISTRICT.nunique() == 76"
   ]
  },
  {
   "cell_type": "code",
   "execution_count": 74,
   "metadata": {},
   "outputs": [],
   "source": [
    "df_long = df_long[df_long['REGION'] != 'MALI']\n",
    "df_reg = df_long[df_long['DISTRICT'] == 'REGION']\n",
    "df_long = df_long[df_long['DISTRICT'] != 'REGION']"
   ]
  },
  {
   "cell_type": "code",
   "execution_count": 75,
   "metadata": {},
   "outputs": [],
   "source": [
    "assert df_reg.REGION.nunique() == 11\n",
    "assert df_long.REGION.nunique() == 11\n",
    "assert df_long.DISTRICT.nunique() == 75"
   ]
  },
  {
   "cell_type": "code",
   "execution_count": 76,
   "metadata": {},
   "outputs": [],
   "source": [
    "df_reg = df_reg.drop(['DISTRICT'], axis=1)\n",
    "df_reg = df_reg.reset_index(drop=True)\n",
    "df_reg = merge_columns(df_reg, regions, ['REGION'], ['REGION'], ['REGION'])\n",
    "df_reg = reorder_columns(df_reg, -1)"
   ]
  },
  {
   "cell_type": "code",
   "execution_count": 77,
   "metadata": {},
   "outputs": [],
   "source": [
    "assert df_reg.RegionIndex.nunique() == 11"
   ]
  },
  {
   "cell_type": "code",
   "execution_count": 78,
   "metadata": {},
   "outputs": [],
   "source": [
    "df_long = merge_columns(df_long, regions, ['REGION'], ['REGION'], ['REGION'])\n",
    "df_long = merge_columns(df_long, cercle, ['RegionIndex', 'DISTRICT'], ['RegionIndex', 'CERCLE'], ['CERCLE', 'DISTRICT'])\n",
    "df_long = reorder_columns(df_long, -2)"
   ]
  },
  {
   "cell_type": "code",
   "execution_count": 79,
   "metadata": {},
   "outputs": [],
   "source": [
    "assert df_long.RegionIndex.nunique() == 11\n",
    "assert df_long.CercleIndex.nunique() == 75\n",
    "assert df_long.SEMAINE.nunique() == 53"
   ]
  },
  {
   "cell_type": "code",
   "execution_count": 80,
   "metadata": {},
   "outputs": [],
   "source": [
    "df_reg.to_csv('data/region_PFA.csv', index=False)\n",
    "df_long.to_csv('data/PFA.csv', index=False)"
   ]
  },
  {
   "cell_type": "markdown",
   "metadata": {},
   "source": [
    "### DCD_Maternel"
   ]
  },
  {
   "cell_type": "code",
   "execution_count": 81,
   "metadata": {},
   "outputs": [],
   "source": [
    "df = pd.read_excel('data/MLMDO_2020_S_53.xls', sheet_name='DCD_Maternel', header=3)"
   ]
  },
  {
   "cell_type": "code",
   "execution_count": 82,
   "metadata": {},
   "outputs": [],
   "source": [
    "cols_to_drop = [col for col in df.columns.tolist() if str(col).startswith('Unnamed')]\n",
    "df = df.drop(cols_to_drop, axis=1)"
   ]
  },
  {
   "cell_type": "code",
   "execution_count": 83,
   "metadata": {},
   "outputs": [],
   "source": [
    "df = df.iloc[:86, :-1]"
   ]
  },
  {
   "cell_type": "code",
   "execution_count": 84,
   "metadata": {},
   "outputs": [],
   "source": [
    "df = df.rename(columns={'Region': 'REGION', 'Districts Sanitaires': 'DISTRICT', 'Population': 'POP'})\n",
    "df = clean_string(df, ['REGION', 'DISTRICT'])"
   ]
  },
  {
   "cell_type": "code",
   "execution_count": 85,
   "metadata": {},
   "outputs": [],
   "source": [
    "df.loc[df['DISTRICT'].str.startswith('TOTAL'), 'DISTRICT'] = 'REGION'"
   ]
  },
  {
   "cell_type": "code",
   "execution_count": 86,
   "metadata": {},
   "outputs": [],
   "source": [
    "cercle_replace_2 = {'ACHOURATT': 'ACHOURAT', 'ALMOUSTRAT': 'ALMOUSTARAT', 'AL_OURCH': 'AL-OURCHE', 'ARAWANE': 'ARAOUANE', 'BARAOUELI': 'BAROUELI', \n",
    "                   'TAOUDÉNIT': 'TAOUDENIT', 'FOUM_ALBA': 'FOUM-ELBA', 'TINDERMEN': 'TIDERMENE', 'MÉNAKA': 'MENAKA', 'SAGABARY': 'SAGABARI',\n",
    "                   'BADIANGARA': 'BANDIAGARA', 'TENINKOU': 'TENENKOU'}\n",
    "df = replace_values(df, ['DISTRICT'], [cercle_replace_2])"
   ]
  },
  {
   "cell_type": "code",
   "execution_count": 87,
   "metadata": {},
   "outputs": [],
   "source": [
    "id_var_columns = list(df.columns[:3])\n",
    "value_var_columns = list(df.columns[3:])\n",
    "df_long = pd.melt(df, id_vars=id_var_columns, value_vars=value_var_columns, var_name='SEMAINE', value_name='CAS')\n",
    "df_long = df_long.sort_values(['REGION', 'DISTRICT', 'SEMAINE'], axis=0)\n",
    "df_long = df_long.reset_index(drop=True)"
   ]
  },
  {
   "cell_type": "code",
   "execution_count": 88,
   "metadata": {},
   "outputs": [],
   "source": [
    "df_long = df_long[df_long['REGION'] != 'MALI']\n",
    "df_reg = df_long[df_long['DISTRICT'] == 'REGION']\n",
    "df_long = df_long[df_long['DISTRICT'] != 'REGION']"
   ]
  },
  {
   "cell_type": "code",
   "execution_count": 89,
   "metadata": {},
   "outputs": [],
   "source": [
    "assert df_reg.REGION.nunique() == 11\n",
    "assert df_long.REGION.nunique() == 11\n",
    "assert df_long.DISTRICT.nunique() == 74"
   ]
  },
  {
   "cell_type": "code",
   "execution_count": 90,
   "metadata": {},
   "outputs": [],
   "source": [
    "df_reg = df_reg.drop(['DISTRICT'], axis=1)\n",
    "df_reg = df_reg.reset_index(drop=True)\n",
    "df_reg = merge_columns(df_reg, regions, ['REGION'], ['REGION'], ['REGION'])\n",
    "df_reg = reorder_columns(df_reg, -1)"
   ]
  },
  {
   "cell_type": "code",
   "execution_count": 91,
   "metadata": {},
   "outputs": [],
   "source": [
    "assert df_reg.RegionIndex.nunique() == 11"
   ]
  },
  {
   "cell_type": "code",
   "execution_count": 92,
   "metadata": {},
   "outputs": [],
   "source": [
    "df_long = merge_columns(df_long, regions, ['REGION'], ['REGION'], ['REGION'])\n",
    "df_long = merge_columns(df_long, cercle, ['RegionIndex', 'DISTRICT'], ['RegionIndex', 'CERCLE'], ['CERCLE', 'DISTRICT'])\n",
    "df_long = reorder_columns(df_long, -2)"
   ]
  },
  {
   "cell_type": "code",
   "execution_count": 93,
   "metadata": {},
   "outputs": [],
   "source": [
    "assert df_long.RegionIndex.nunique() == 11\n",
    "assert df_long.CercleIndex.nunique() == 74\n",
    "assert df_long.SEMAINE.nunique() == 53"
   ]
  },
  {
   "cell_type": "code",
   "execution_count": 94,
   "metadata": {},
   "outputs": [],
   "source": [
    "df_reg.to_csv('data/region_DCD_Maternel.csv', index=False)\n",
    "df_long.to_csv('data/DCD_Maternel.csv', index=False)"
   ]
  },
  {
   "cell_type": "markdown",
   "metadata": {},
   "source": [
    "### DCD NN"
   ]
  },
  {
   "cell_type": "code",
   "execution_count": 95,
   "metadata": {},
   "outputs": [],
   "source": [
    "df = pd.read_excel('data/MLMDO_2020_S_53.xls', sheet_name='DCD NN', header=3)"
   ]
  },
  {
   "cell_type": "code",
   "execution_count": 96,
   "metadata": {},
   "outputs": [],
   "source": [
    "df = df.iloc[:95, :-6]"
   ]
  },
  {
   "cell_type": "code",
   "execution_count": 97,
   "metadata": {},
   "outputs": [],
   "source": [
    "df = df.rename(columns={'Region': 'REGION', 'Districts Sanitaires': 'DISTRICT', 'Population': 'POP'})\n",
    "df = clean_string(df, ['REGION', 'DISTRICT'])"
   ]
  },
  {
   "cell_type": "code",
   "execution_count": 98,
   "metadata": {},
   "outputs": [],
   "source": [
    "df.loc[df['DISTRICT'].str.startswith('TOTAL'), 'DISTRICT'] = 'REGION'\n",
    "df = replace_values(df, ['DISTRICT'], [cercle_replace_2])"
   ]
  },
  {
   "cell_type": "code",
   "execution_count": 99,
   "metadata": {},
   "outputs": [],
   "source": [
    "dis = [d for d in df.DISTRICT.unique() if d not in cercle.CERCLE.unique()]\n",
    "dis.remove('REGION')"
   ]
  },
  {
   "cell_type": "code",
   "execution_count": 100,
   "metadata": {},
   "outputs": [],
   "source": [
    "df = df[~df.DISTRICT.isin(dis)]"
   ]
  },
  {
   "cell_type": "code",
   "execution_count": 101,
   "metadata": {},
   "outputs": [],
   "source": [
    "id_var_columns = list(df.columns[:3])\n",
    "value_var_columns = list(df.columns[3:])\n",
    "df_long = pd.melt(df, id_vars=id_var_columns, value_vars=value_var_columns, var_name='SEMAINE', value_name='CAS')\n",
    "df_long = df_long.sort_values(['REGION', 'DISTRICT', 'SEMAINE'], axis=0)\n",
    "df_long = df_long.reset_index(drop=True)"
   ]
  },
  {
   "cell_type": "code",
   "execution_count": 102,
   "metadata": {},
   "outputs": [],
   "source": [
    "df_long = df_long[df_long['REGION'] != 'MALI']\n",
    "df_reg = df_long[df_long['DISTRICT'] == 'REGION']\n",
    "df_long = df_long[df_long['DISTRICT'] != 'REGION']"
   ]
  },
  {
   "cell_type": "code",
   "execution_count": 103,
   "metadata": {},
   "outputs": [],
   "source": [
    "assert df_reg.REGION.nunique() == 11\n",
    "assert df_long.REGION.nunique() == 11\n",
    "assert df_long.DISTRICT.nunique() == 74"
   ]
  },
  {
   "cell_type": "code",
   "execution_count": 104,
   "metadata": {},
   "outputs": [],
   "source": [
    "df_reg = df_reg.drop(['DISTRICT'], axis=1)\n",
    "df_reg = df_reg.reset_index(drop=True)\n",
    "df_reg = merge_columns(df_reg, regions, ['REGION'], ['REGION'], ['REGION'])\n",
    "df_reg = reorder_columns(df_reg, -1)"
   ]
  },
  {
   "cell_type": "code",
   "execution_count": 105,
   "metadata": {},
   "outputs": [],
   "source": [
    "assert df_reg.RegionIndex.nunique() == 11"
   ]
  },
  {
   "cell_type": "code",
   "execution_count": 106,
   "metadata": {},
   "outputs": [],
   "source": [
    "df_long = merge_columns(df_long, regions, ['REGION'], ['REGION'], ['REGION'])\n",
    "df_long = merge_columns(df_long, cercle, ['RegionIndex', 'DISTRICT'], ['RegionIndex', 'CERCLE'], ['CERCLE', 'DISTRICT'])\n",
    "df_long = reorder_columns(df_long, -2)"
   ]
  },
  {
   "cell_type": "code",
   "execution_count": 107,
   "metadata": {},
   "outputs": [],
   "source": [
    "assert df_long.RegionIndex.nunique() == 11\n",
    "assert df_long.CercleIndex.nunique() == 74\n",
    "assert df_long.SEMAINE.nunique() == 53"
   ]
  },
  {
   "cell_type": "code",
   "execution_count": 108,
   "metadata": {},
   "outputs": [],
   "source": [
    "df_reg.to_csv('data/region_DCD_NN.csv', index=False)\n",
    "df_long.to_csv('data/DCD_NN.csv', index=False)"
   ]
  },
  {
   "cell_type": "markdown",
   "metadata": {},
   "source": [
    "### TNN"
   ]
  },
  {
   "cell_type": "code",
   "execution_count": 231,
   "metadata": {},
   "outputs": [],
   "source": [
    "df = pd.read_excel('data/MLMDO_2020_S_53.xls', sheet_name='TNN', header=2)"
   ]
  },
  {
   "cell_type": "code",
   "execution_count": 232,
   "metadata": {},
   "outputs": [],
   "source": [
    "cols_to_drop = [col for col in df.columns.tolist() if str(col).startswith('Unnamed')]\n",
    "df = df.drop(cols_to_drop, axis=1)"
   ]
  },
  {
   "cell_type": "code",
   "execution_count": 233,
   "metadata": {},
   "outputs": [],
   "source": [
    "df = df.iloc[:83, :-8]\n",
    "df = df.drop('3-28 jours', axis=1)"
   ]
  },
  {
   "cell_type": "code",
   "execution_count": 234,
   "metadata": {},
   "outputs": [],
   "source": [
    "df = df.rename(columns={'Region': 'REGION', 'Districts Sanitaires': 'DISTRICT', 'Population': 'POP'})\n",
    "df = clean_string(df, ['REGION', 'DISTRICT'])"
   ]
  },
  {
   "cell_type": "code",
   "execution_count": 235,
   "metadata": {},
   "outputs": [],
   "source": [
    "df.loc[df['DISTRICT'].str.startswith('TOTAL'), 'DISTRICT'] = 'REGION'"
   ]
  },
  {
   "cell_type": "code",
   "execution_count": 237,
   "metadata": {},
   "outputs": [],
   "source": [
    "cercle_replace_4 = {'ACHOURATT': 'ACHOURAT', 'AL_OURCH': 'AL-OURCHE', 'ARAWANE': 'ARAOUANE', 'BARAOUELI': 'BAROUELI', \n",
    "                   'FOUM_ALBA': 'FOUM-ELBA', 'TINDERMEN': 'TIDERMENE', 'MÉNAKA': 'MENAKA', \n",
    "                   'BADIANGARA': 'BANDIAGARA', 'TENINKOU': 'TENENKOU', 'SELENGUE': 'SELINGUE', 'NIONIO': 'NIONO', 'ANSONGOU': 'ANSONGO', 'TAOUDÉNI': 'TAOUDENIT'}"
   ]
  },
  {
   "cell_type": "code",
   "execution_count": 238,
   "metadata": {},
   "outputs": [],
   "source": [
    "df = replace_values(df, ['DISTRICT'], [cercle_replace_4])"
   ]
  },
  {
   "cell_type": "code",
   "execution_count": 240,
   "metadata": {},
   "outputs": [],
   "source": [
    "id_var_columns = list(df.columns[:2])\n",
    "value_var_columns = list(df.columns[2:])\n",
    "df_long = pd.melt(df, id_vars=id_var_columns, value_vars=value_var_columns, var_name='SEMAINE', value_name='NUMBER')\n",
    "df_long = df_long.sort_values(['REGION', 'DISTRICT', 'SEMAINE'], axis=0)\n",
    "df_long = df_long.reset_index(drop=True)"
   ]
  },
  {
   "cell_type": "code",
   "execution_count": 241,
   "metadata": {},
   "outputs": [],
   "source": [
    "df_long.loc[df_long['SEMAINE'] == 'Cas', 'SEMAINE'] = 'Cas.0'\n",
    "df_long.loc[df_long['SEMAINE'] == 'Décè', 'SEMAINE'] = 'Décè.0'"
   ]
  },
  {
   "cell_type": "code",
   "execution_count": 242,
   "metadata": {},
   "outputs": [],
   "source": [
    "df_long[['INDICATOR', 'WEEK']] = df_long['SEMAINE'].str.split('.', expand=True)"
   ]
  },
  {
   "cell_type": "code",
   "execution_count": 243,
   "metadata": {},
   "outputs": [],
   "source": [
    "df_long = df_long.drop(['SEMAINE'], axis=1)\n",
    "df_long = df_long[['REGION', 'DISTRICT', 'INDICATOR', 'WEEK', 'NUMBER']]\n",
    "df_long = df_long.rename(columns={'WEEK': 'SEMAINE'})\n",
    "df_long['SEMAINE'] = df_long['SEMAINE'].astype('int') + 1\n",
    "df_long['SEMAINE'] = pd.to_numeric(df_long['SEMAINE'])\n",
    "df = df_long.sort_values(['REGION', 'DISTRICT', 'SEMAINE', 'INDICATOR'], axis=0)"
   ]
  },
  {
   "cell_type": "code",
   "execution_count": 244,
   "metadata": {},
   "outputs": [],
   "source": [
    "df_reg = df_long[df_long['DISTRICT'] == 'REGION']\n",
    "df_long = df_long[df_long['DISTRICT'] != 'REGION']"
   ]
  },
  {
   "cell_type": "code",
   "execution_count": 245,
   "metadata": {},
   "outputs": [],
   "source": [
    "df_reg = df_reg.drop(['DISTRICT'], axis=1)\n",
    "df_reg = df_reg.reset_index(drop=True)\n",
    "df_reg = merge_columns(df_reg, regions, ['REGION'], ['REGION'], ['REGION'])\n",
    "df_reg = reorder_columns(df_reg, -1)"
   ]
  },
  {
   "cell_type": "code",
   "execution_count": 246,
   "metadata": {},
   "outputs": [],
   "source": [
    "assert df_reg.RegionIndex.nunique() == 11"
   ]
  },
  {
   "cell_type": "code",
   "execution_count": 247,
   "metadata": {},
   "outputs": [],
   "source": [
    "df_long = merge_columns(df_long, regions, ['REGION'], ['REGION'], ['REGION'])"
   ]
  },
  {
   "cell_type": "code",
   "execution_count": 249,
   "metadata": {},
   "outputs": [],
   "source": [
    "def merge_columns(df1, df2, left_on_list, right_on_list, drop_list):\n",
    "    temp = df1.merge(df2, left_on=left_on_list, right_on=right_on_list, how='left')\n",
    "    assert temp.shape[0] == df1.shape[0]\n",
    "    temp.drop(drop_list, axis=1, inplace=True)\n",
    "    return temp"
   ]
  },
  {
   "cell_type": "code",
   "execution_count": 250,
   "metadata": {},
   "outputs": [],
   "source": [
    "df_long = merge_columns(df_long, cercle, ['RegionIndex', 'DISTRICT'], ['RegionIndex', 'CERCLE'], ['CERCLE', 'DISTRICT'])\n",
    "df_long = reorder_columns(df_long, -2)"
   ]
  },
  {
   "cell_type": "code",
   "execution_count": 251,
   "metadata": {},
   "outputs": [],
   "source": [
    "df_reg.to_csv('data/region_TNN.csv', index=False)\n",
    "df_long.to_csv('data/TNN.csv', index=False)"
   ]
  },
  {
   "cell_type": "markdown",
   "metadata": {},
   "source": [
    "### Mort né"
   ]
  },
  {
   "cell_type": "code",
   "execution_count": 123,
   "metadata": {},
   "outputs": [],
   "source": [
    "df = pd.read_excel('data/MLMDO_2020_S_53.xls', sheet_name='Mort né', header=2)"
   ]
  },
  {
   "cell_type": "code",
   "execution_count": 124,
   "metadata": {},
   "outputs": [],
   "source": [
    "cols_to_drop = [col for col in df.columns.tolist() if str(col).startswith('Unnamed')]\n",
    "df = df.drop(cols_to_drop, axis=1)"
   ]
  },
  {
   "cell_type": "code",
   "execution_count": 125,
   "metadata": {},
   "outputs": [],
   "source": [
    "df = df.iloc[:91, :-5]"
   ]
  },
  {
   "cell_type": "code",
   "execution_count": 126,
   "metadata": {},
   "outputs": [],
   "source": [
    "df = df.rename(columns={'Region': 'REGION', 'Districts Sanitaires': 'DISTRICT', 'Population': 'POP'})\n",
    "df = clean_string(df, ['REGION', 'DISTRICT'])\n",
    "df.loc[df['DISTRICT'].str.startswith('TOTAL'), 'DISTRICT'] = 'REGION'\n",
    "df = df[df['DISTRICT'] != 'EPH']"
   ]
  },
  {
   "cell_type": "code",
   "execution_count": 127,
   "metadata": {},
   "outputs": [],
   "source": [
    "dis = [d for d in df.DISTRICT.unique() if d not in cercle.CERCLE.unique()]\n",
    "dis.remove('REGION')"
   ]
  },
  {
   "cell_type": "code",
   "execution_count": 128,
   "metadata": {},
   "outputs": [],
   "source": [
    "cercle_replace_3 = {'ACHOURATT': 'ACHOURAT', 'AL_OURCH': 'AL-OURCHE', 'ARAWANE': 'ARAOUANE', 'BARAOUELI': 'BAROUELI', 'NIÉNA': 'NIENA',\n",
    "                   'FOUM_ALBA': 'FOUM-ELBA', 'TINDERMEN': 'TIDERMENE', 'MÉNAKA': 'MENAKA', 'SAGABARY': 'SAGABARI',\n",
    "                   'BADIANGARA': 'BANDIAGARA', 'TENINKOU': 'TENENKOU', 'SELENGUE': 'SELINGUE', 'NIONIO': 'NIONO', 'ANSONGOU': 'ANSONGO', 'TAOUDÉNI': 'TAOUDENIT'}\n",
    "df = replace_values(df, ['DISTRICT'], [cercle_replace_3])"
   ]
  },
  {
   "cell_type": "code",
   "execution_count": 129,
   "metadata": {},
   "outputs": [],
   "source": [
    "id_var_columns = list(df.columns[:2])\n",
    "value_var_columns = list(df.columns[2:])\n",
    "df_long = pd.melt(df, id_vars=id_var_columns, value_vars=value_var_columns, var_name='SEMAINE', value_name='NUMBER')\n",
    "df_long = df_long.sort_values(['REGION', 'DISTRICT', 'SEMAINE'], axis=0)\n",
    "df_long = df_long.reset_index(drop=True)"
   ]
  },
  {
   "cell_type": "code",
   "execution_count": 130,
   "metadata": {},
   "outputs": [],
   "source": [
    "df_long.loc[df_long['SEMAINE'] == 'Frais', 'SEMAINE'] = 'Frais.0'\n",
    "df_long.loc[df_long['SEMAINE'] == 'Mac', 'SEMAINE'] = 'Mac.0'"
   ]
  },
  {
   "cell_type": "code",
   "execution_count": 131,
   "metadata": {},
   "outputs": [],
   "source": [
    "df_long[['INDICATOR', 'WEEK']] = df_long['SEMAINE'].str.split('.', expand=True)\n",
    "df_long = df_long.drop(['SEMAINE'], axis=1)\n",
    "df_long = df_long[['REGION', 'DISTRICT', 'INDICATOR', 'WEEK', 'NUMBER']]\n",
    "df_long = df_long.rename(columns={'WEEK': 'SEMAINE'})\n",
    "df_long['SEMAINE'] = df_long['SEMAINE'].astype('int') + 1\n",
    "df_long['SEMAINE'] = pd.to_numeric(df_long['SEMAINE'])\n",
    "df = df_long.sort_values(['REGION', 'DISTRICT', 'SEMAINE', 'INDICATOR'], axis=0)"
   ]
  },
  {
   "cell_type": "code",
   "execution_count": 132,
   "metadata": {},
   "outputs": [],
   "source": [
    "df_reg = df_long[df_long['DISTRICT'] == 'REGION']\n",
    "df_long = df_long[df_long['DISTRICT'] != 'REGION']"
   ]
  },
  {
   "cell_type": "code",
   "execution_count": 133,
   "metadata": {},
   "outputs": [],
   "source": [
    "df_reg = df_reg.drop(['DISTRICT'], axis=1)\n",
    "df_reg = df_reg.reset_index(drop=True)\n",
    "df_reg = merge_columns(df_reg, regions, ['REGION'], ['REGION'], ['REGION'])\n",
    "df_reg = reorder_columns(df_reg, -1)"
   ]
  },
  {
   "cell_type": "code",
   "execution_count": 134,
   "metadata": {},
   "outputs": [],
   "source": [
    "assert df_reg.RegionIndex.nunique() == 11"
   ]
  },
  {
   "cell_type": "code",
   "execution_count": 135,
   "metadata": {},
   "outputs": [],
   "source": [
    "df_long = merge_columns(df_long, regions, ['REGION'], ['REGION'], ['REGION'])\n",
    "df_long = merge_columns(df_long, cercle, ['RegionIndex', 'DISTRICT'], ['RegionIndex', 'CERCLE'], ['CERCLE', 'DISTRICT'])\n",
    "df_long = reorder_columns(df_long, -2)"
   ]
  },
  {
   "cell_type": "code",
   "execution_count": 136,
   "metadata": {},
   "outputs": [],
   "source": [
    "df_reg.to_csv('data/region_mort_ne.csv', index=False)\n",
    "df_long.to_csv('data/mort_ne.csv', index=False)"
   ]
  },
  {
   "cell_type": "markdown",
   "metadata": {},
   "source": [
    "### Palu"
   ]
  },
  {
   "cell_type": "code",
   "execution_count": 330,
   "metadata": {},
   "outputs": [],
   "source": [
    "df = pd.read_excel('data/MLMDO_2020_S_53.xls', sheet_name='Palu', header=[1,2])"
   ]
  },
  {
   "cell_type": "code",
   "execution_count": 331,
   "metadata": {},
   "outputs": [],
   "source": [
    "df = df.iloc[:53, :56]\n",
    "df = df.T\n",
    "df = df.iloc[1:]\n",
    "df.reset_index(inplace=True)\n",
    "df = df.rename(columns={'level_0': 'REGION', 'level_1': 'INDICATOR'})"
   ]
  },
  {
   "cell_type": "code",
   "execution_count": 332,
   "metadata": {},
   "outputs": [],
   "source": [
    "id_var_columns = list(df.columns[:2])\n",
    "value_var_columns = list(df.columns[2:])\n",
    "df_long = pd.melt(df, id_vars=id_var_columns, value_vars=value_var_columns, var_name='SEMAINE', value_name='VALUE')\n",
    "df_long = df_long.sort_values(['REGION', 'SEMAINE'], axis=0)"
   ]
  },
  {
   "cell_type": "code",
   "execution_count": 333,
   "metadata": {},
   "outputs": [],
   "source": [
    "df_long = clean_string(df_long, ['REGION', 'INDICATOR'])\n",
    "df_long['SEMAINE'] += 1\n",
    "df_long_shape = df_long.shape"
   ]
  },
  {
   "cell_type": "code",
   "execution_count": 334,
   "metadata": {},
   "outputs": [],
   "source": [
    "region_replace = {'SÉGOU': 'SEGOU', 'MÉNAKA': 'MENAKA', 'TAOUDÉNI': 'TAOUDENIT'}\n",
    "df_long = replace_values(df_long, ['REGION'], [region_replace])\n",
    "assert df_long.REGION.nunique() == regions.REGION.nunique()"
   ]
  },
  {
   "cell_type": "code",
   "execution_count": 335,
   "metadata": {},
   "outputs": [],
   "source": [
    "df_long = merge_columns(df_long, regions, ['REGION'], ['REGION'], ['REGION'])\n",
    "df_long = reorder_columns(df_long, -1)\n",
    "assert df_long.shape == df_long_shape"
   ]
  },
  {
   "cell_type": "code",
   "execution_count": 336,
   "metadata": {},
   "outputs": [],
   "source": [
    "df_long.to_csv('data/region_palu.csv', index=False)"
   ]
  }
 ],
 "metadata": {
  "kernelspec": {
   "display_name": "nlu",
   "language": "python",
   "name": "nlu"
  },
  "language_info": {
   "codemirror_mode": {
    "name": "ipython",
    "version": 3
   },
   "file_extension": ".py",
   "mimetype": "text/x-python",
   "name": "python",
   "nbconvert_exporter": "python",
   "pygments_lexer": "ipython3",
   "version": "3.8.12"
  }
 },
 "nbformat": 4,
 "nbformat_minor": 4
}
