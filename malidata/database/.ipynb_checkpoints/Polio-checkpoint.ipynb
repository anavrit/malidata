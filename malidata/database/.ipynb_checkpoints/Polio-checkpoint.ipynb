{
 "cells": [
  {
   "cell_type": "code",
   "execution_count": 2,
   "metadata": {},
   "outputs": [],
   "source": [
    "import numpy as np\n",
    "import pandas as pd\n",
    "import os\n",
    "from helper_functions import *\n",
    "from herams_helper_functions import *"
   ]
  },
  {
   "cell_type": "code",
   "execution_count": 3,
   "metadata": {},
   "outputs": [],
   "source": [
    "def reorder_columns(data, colnum):\n",
    "    cols = data.columns.tolist()\n",
    "    cols = cols[colnum:] + cols[:colnum]\n",
    "    data = data[cols]\n",
    "    return data"
   ]
  },
  {
   "cell_type": "code",
   "execution_count": 4,
   "metadata": {},
   "outputs": [],
   "source": [
    "def clean_commune_data(data, cols):\n",
    "    for col in cols:\n",
    "        data.loc[data[col] == 'COMMUNE 1', col] = 'COMMUNE I'\n",
    "        data.loc[data[col] == 'COMMUNE 2', col] = 'COMMUNE II'\n",
    "        data.loc[data[col] == 'COMMUNE 3', col] = 'COMMUNE III'\n",
    "        data.loc[data[col] == 'COMMUNE 4', col] = 'COMMUNE IV'\n",
    "        data.loc[data[col] == 'COMMUNE 5', col] = 'COMMUNE V'\n",
    "        data.loc[data[col] == 'COMMUNE 6', col] = 'COMMUNE VI'\n",
    "    return data"
   ]
  },
  {
   "cell_type": "markdown",
   "metadata": {},
   "source": [
    "### Measles and Rubella"
   ]
  },
  {
   "cell_type": "code",
   "execution_count": 60,
   "metadata": {},
   "outputs": [],
   "source": [
    "regions = pd.read_csv('data/regions.csv')\n",
    "cercle = pd.read_csv('data/cercle.csv')\n",
    "regions = get_serial_column(regions, ['REGION'], 'RegionIndex')\n",
    "cercle = get_serial_column(cercle, ['RegionIndex', 'CERCLE'], 'CercleIndex')"
   ]
  },
  {
   "cell_type": "code",
   "execution_count": 61,
   "metadata": {},
   "outputs": [],
   "source": [
    "df = pd.read_excel('data/Measles.xlsx', sheet_name='Genericcasebased', header=0)"
   ]
  },
  {
   "cell_type": "code",
   "execution_count": 62,
   "metadata": {},
   "outputs": [],
   "source": [
    "df = clean_string(df, ['ReportingDistrict', 'ReportingHealthfacility', 'DistrictofResidence', 'ProvinceOfResidence'])\n",
    "df = clean_commune_data(df, ['ReportingDistrict', 'DistrictofResidence'])"
   ]
  },
  {
   "cell_type": "code",
   "execution_count": 63,
   "metadata": {},
   "outputs": [],
   "source": [
    "list_to_drop = ['BlankVariable1', 'BlankVariable2', 'CountryCode', 'NamesOfPatient', 'RECSTATUS', 'PatientsResidence', 'Towncity', 'DateOfBirth']\n",
    "cols_to_drop = [col for col in df.columns.tolist() if df[col].isnull().sum() == df.shape[0]]\n",
    "cols_to_drop += list_to_drop\n",
    "df = df.drop(cols_to_drop, axis=1)"
   ]
  },
  {
   "cell_type": "code",
   "execution_count": 64,
   "metadata": {},
   "outputs": [],
   "source": [
    "miss = [dis for dis in df.ReportingDistrict.unique() if dis not in cercle.CERCLE.unique()]\n",
    "prov = [(m, df.loc[df.ReportingDistrict == m, 'ProvinceOfResidence'][:1,]) for m in miss]"
   ]
  },
  {
   "cell_type": "code",
   "execution_count": 65,
   "metadata": {},
   "outputs": [],
   "source": [
    "to_replace = [{'TENENKOUN': 'TENENKOU', 'BARAOUELI': 'BAROUELI', 'TINESSAKO': 'TIN-ESSAKO', 'O': 'TOMINIAN',\n",
    "              'KALABANCORO': 'KALABAN CORO', 'ACHOURATT': 'ACHOURAT', 'ALMOUSTRAT': 'ALMOUSTARAT', 'ALOURCHE': 'AL-OURCHE'},\n",
    "             {'KALABANCORO': 'KALABAN CORO', 'NARRA': 'NARA', 'BAMAKO COMMUNE II': 'COMMUNE II', 'ALMOUSTRAT': 'ALMOUSTARAT',\n",
    "              'MÉNAKA': 'MENAKA', 'TENENKOUN': 'TENENKOU', 'YOUWAOU': 'YOUWAROU', 'BARAOUELI': 'BAROUELI', 'YOUWAOU': 'YOUWAROU',\n",
    "              'TINESSAKO': 'TIN-ESSAKO', 'BOUGOUN': 'BOUGOUNI', 'SLINGUE': 'SELINGUE', 'COMMUNE1': 'COMMUNE I', 'ACHOURATT': 'ACHOURAT', \n",
    "              'ALOURCHE': 'AL-OURCHE'}]"
   ]
  },
  {
   "cell_type": "code",
   "execution_count": 66,
   "metadata": {},
   "outputs": [],
   "source": [
    "df = replace_values(df, ['ReportingDistrict', 'DistrictofResidence'], to_replace)\n",
    "df.loc[df['DistrictofResidence'].isnull(), 'DistrictofResidence'] = 'COMMUNE I'\n",
    "df.loc[df['DistrictofResidence'] == 'COMMUNE I', 'ProvinceOfResidence'] = 'BAMAKO'"
   ]
  },
  {
   "cell_type": "code",
   "execution_count": 67,
   "metadata": {},
   "outputs": [],
   "source": [
    "assert len([dis for dis in df.ReportingDistrict.unique() if dis not in cercle.CERCLE.unique()]) == 0\n",
    "assert len([dis for dis in df.DistrictofResidence.unique() if dis not in cercle.CERCLE.unique()]) == 0"
   ]
  },
  {
   "cell_type": "code",
   "execution_count": 68,
   "metadata": {},
   "outputs": [],
   "source": [
    "df.loc[df.ProvinceOfResidence=='KIADAL', 'ProvinceOfResidence'] = 'KIDAL'\n",
    "assert df.ProvinceOfResidence.nunique() == regions.RegionIndex.nunique()"
   ]
  },
  {
   "cell_type": "code",
   "execution_count": 69,
   "metadata": {},
   "outputs": [],
   "source": [
    "df.loc[df.Age.isnull(), 'Age'] = df['AgeInyears']\n",
    "df.Age.isnull().sum()\n",
    "df = df.drop(['AgeInyears', 'AgeInmonths'], axis=1)"
   ]
  },
  {
   "cell_type": "code",
   "execution_count": 70,
   "metadata": {},
   "outputs": [],
   "source": [
    "df.loc[df.Urbanrural=='R', 'Urbanrural'] = 'Rural'\n",
    "df.loc[df.Urbanrural.isin(['U', 'Urbain']), 'Urbanrural'] = 'Urban'\n",
    "df.loc[df.Urbanrural=='Rural', 'Urbanrural'] = 1\n",
    "df.loc[df.Urbanrural=='Urban', 'Urbanrural'] = 2"
   ]
  },
  {
   "cell_type": "code",
   "execution_count": 71,
   "metadata": {},
   "outputs": [],
   "source": [
    "df.loc[df.RubellaIgm=='4                                 5', 'RubellaIgm'] = '4'"
   ]
  },
  {
   "cell_type": "code",
   "execution_count": 72,
   "metadata": {},
   "outputs": [],
   "source": [
    "df['MeaslesIgm'] = df['MeaslesIgm'].apply(pd.to_numeric, downcast='integer')\n",
    "df['RubellaIgm'] = df['RubellaIgm'].apply(pd.to_numeric, downcast='integer')"
   ]
  },
  {
   "cell_type": "code",
   "execution_count": 73,
   "metadata": {},
   "outputs": [],
   "source": [
    "for col in ['DateReceivedNatlevel', 'DateSeenHealthFacility', 'DateHealthfacilitynotified', 'DateOfonset', 'DateOfLastvaccination',\n",
    "            'DateSentFormtodistrict', 'DateRecformdistrict', 'DateSpecimencollected', 'DateSpecimenSenttolab', 'DateLabReceivedSpecimen',\n",
    "            'DateLabSentResulttodistrict', 'DateDistrictRecLabResults']:\n",
    "    df[col] = pd.to_datetime(df[col])"
   ]
  },
  {
   "cell_type": "code",
   "execution_count": 74,
   "metadata": {},
   "outputs": [],
   "source": [
    "df.loc[df.Sex.isin(['F', 'f']), 'Sex'] = 1\n",
    "df.loc[df.Sex.isin(['M', 'm']), 'Sex'] = 2\n",
    "df.loc[df.Sex.isin(['5', 'N', '£']), 'Sex'] = np.nan\n",
    "df.loc[df.NumberOfVaccinedoses==99, 'NumberOfVaccinedoses'] = np.nan"
   ]
  },
  {
   "cell_type": "code",
   "execution_count": 75,
   "metadata": {},
   "outputs": [],
   "source": [
    "df = merge_columns(df, regions, ['ProvinceOfResidence'], ['REGION'], ['REGION'])\n",
    "df = merge_columns(df, cercle, ['ReportingDistrict'], ['CERCLE'], ['CERCLE'])\n",
    "df = merge_columns(df, cercle, ['DistrictofResidence'], ['CERCLE'], ['CERCLE'])"
   ]
  },
  {
   "cell_type": "code",
   "execution_count": 76,
   "metadata": {},
   "outputs": [],
   "source": [
    "df = df.drop(['RegionIndex_y', 'RegionIndex', 'ProvinceOfResidence', 'DistrictofResidence', 'ReportingDistrict'], axis=1)\n",
    "df = df.rename(columns = {'RegionIndex_x': 'ProvinceOfResidence', 'CercleIndex_x': 'ReportingDistrict', 'CercleIndex_y': 'DistrictofResidence'})"
   ]
  },
  {
   "cell_type": "code",
   "execution_count": 77,
   "metadata": {},
   "outputs": [],
   "source": [
    "float_columns = df.loc[:, df.dtypes == float].columns.tolist()\n",
    "float_columns.remove('Age')\n",
    "for col in float_columns:\n",
    "    df[col] = df[col].astype('Int64')"
   ]
  },
  {
   "cell_type": "code",
   "execution_count": 78,
   "metadata": {},
   "outputs": [],
   "source": [
    "df.loc[df.Outcome==9, 'Outcome'] = 3\n",
    "df.loc[df.MeaslesIgm==9, 'MeaslesIgm'] = 6\n",
    "df.loc[df.RubellaIgm==9, 'RubellaIgm'] = 6"
   ]
  },
  {
   "cell_type": "code",
   "execution_count": 79,
   "metadata": {},
   "outputs": [],
   "source": [
    "df.to_csv('data/Measles_Cases.csv', index=False)"
   ]
  },
  {
   "cell_type": "markdown",
   "metadata": {},
   "source": [
    "### Classification tables"
   ]
  },
  {
   "cell_type": "code",
   "execution_count": 22,
   "metadata": {},
   "outputs": [],
   "source": [
    "sex = pd.read_excel('data/Measles.xlsx', sheet_name='codeSex', header=0)\n",
    "measles = pd.read_excel('data/Measles.xlsx', sheet_name='codeMeaslesIgm', header=0)\n",
    "rubella = pd.read_excel('data/Measles.xlsx', sheet_name='codeRubellaIgm', header=0)\n",
    "fc = pd.read_excel('data/Measles.xlsx', sheet_name='codeFinalClassification', header=0)\n",
    "inout = pd.read_excel('data/Measles.xlsx', sheet_name='codeInoutpatient', header=0)\n",
    "outcome = pd.read_excel('data/Measles.xlsx', sheet_name='codeOutcome', header=0)\n",
    "specimen = pd.read_excel('data/Measles.xlsx', sheet_name='codeSpecimenCondition', header=0)\n",
    "urban = pd.read_excel('data/Measles.xlsx', sheet_name='codeUrbanrural', header=0)"
   ]
  },
  {
   "cell_type": "code",
   "execution_count": 23,
   "metadata": {},
   "outputs": [],
   "source": [
    "sex['Sex'] = sex['Sex'].str[2:]\n",
    "sex.to_csv('data/sex.csv', index=False)"
   ]
  },
  {
   "cell_type": "code",
   "execution_count": 24,
   "metadata": {},
   "outputs": [],
   "source": [
    "measles['MeaslesIgm'] = measles['MeaslesIgm'].str[2:]\n",
    "measles.to_csv('data/measles_test.csv', index=False)"
   ]
  },
  {
   "cell_type": "code",
   "execution_count": 25,
   "metadata": {},
   "outputs": [],
   "source": [
    "rubella['RubellaIgm'] = rubella['RubellaIgm'].str[2:]\n",
    "rubella.to_csv('data/rubella_test.csv', index=False)"
   ]
  },
  {
   "cell_type": "code",
   "execution_count": 26,
   "metadata": {},
   "outputs": [],
   "source": [
    "fc['FinalClassification'] = fc['FinalClassification'].str[2:]\n",
    "fc.to_csv('data/measles_final_class.csv', index=False)"
   ]
  },
  {
   "cell_type": "code",
   "execution_count": 27,
   "metadata": {},
   "outputs": [],
   "source": [
    "inout['Inoutpatient'] = inout['Inoutpatient'].str[2:]\n",
    "inout.to_csv('data/in_out_patient.csv', index=False)"
   ]
  },
  {
   "cell_type": "code",
   "execution_count": 28,
   "metadata": {},
   "outputs": [],
   "source": [
    "outcome['Outcome'] = outcome['Outcome'].str[2:]\n",
    "outcome.to_csv('data/patient_outcome.csv', index=False)"
   ]
  },
  {
   "cell_type": "code",
   "execution_count": 29,
   "metadata": {},
   "outputs": [],
   "source": [
    "specimen['SpecimenCondition'] = specimen['SpecimenCondition'].str[2:]\n",
    "specimen.loc[specimen['SpecimenCondition'] == 'inadéquat'] = 'Inadéquat'\n",
    "specimen.to_csv('data/specimen_condition.csv', index=False)"
   ]
  },
  {
   "cell_type": "code",
   "execution_count": 30,
   "metadata": {},
   "outputs": [],
   "source": [
    "urban['Urbanrural'] = urban['Urbanrural'].str[2:]\n",
    "urban.to_csv('data/urban_rural.csv', index=False)"
   ]
  },
  {
   "cell_type": "markdown",
   "metadata": {},
   "source": [
    "### Yellow Fever"
   ]
  },
  {
   "cell_type": "code",
   "execution_count": 115,
   "metadata": {},
   "outputs": [
    {
     "name": "stderr",
     "output_type": "stream",
     "text": [
      "/opt/anaconda3/envs/nlu/lib/python3.8/site-packages/openpyxl/worksheet/_reader.py:211: UserWarning: Cell J1910 is marked as a date but the serial value 3725476 is outside the limits for dates. The cell will be treated as an error.\n",
      "  warn(msg)\n",
      "/opt/anaconda3/envs/nlu/lib/python3.8/site-packages/openpyxl/worksheet/_reader.py:211: UserWarning: Cell J2127 is marked as a date but the serial value 3725476 is outside the limits for dates. The cell will be treated as an error.\n",
      "  warn(msg)\n"
     ]
    }
   ],
   "source": [
    "df = pd.read_excel('data/YF.xlsx', sheet_name='Genericcasebased', header=0)"
   ]
  },
  {
   "cell_type": "code",
   "execution_count": 116,
   "metadata": {},
   "outputs": [],
   "source": [
    "df = df.rename(columns={'Année': 'Age'})"
   ]
  },
  {
   "cell_type": "code",
   "execution_count": 117,
   "metadata": {},
   "outputs": [],
   "source": [
    "df = clean_string(df, ['ReportingDistrict', 'ReportingHealthFacility', 'DistrictOfresidence', 'Province'])\n",
    "df = clean_commune_data(df, ['ReportingDistrict', 'DistrictOfresidence'])"
   ]
  },
  {
   "cell_type": "code",
   "execution_count": 118,
   "metadata": {},
   "outputs": [],
   "source": [
    "list_to_drop = ['BlankVariable1', 'BlankVariable2', 'CountryCode', 'NameOfPatient', 'RECSTATUS', 'PatientsResidence', 'Towncity', 'DateOfBirth',\n",
    "                'DataType', 'Diseasecondition', 'DistrictdefResidence', 'AgeInmonths']\n",
    "cols_to_drop = [col for col in df.columns.tolist() if df[col].isnull().sum() == df.shape[0]]\n",
    "cols_to_drop += list_to_drop\n",
    "df = df.drop(cols_to_drop, axis=1)"
   ]
  },
  {
   "cell_type": "code",
   "execution_count": 119,
   "metadata": {},
   "outputs": [],
   "source": [
    "df = df.drop_duplicates(['IdNumber'], keep='first')\n",
    "assert df.IdNumber.nunique() == len(df)"
   ]
  },
  {
   "cell_type": "code",
   "execution_count": 120,
   "metadata": {},
   "outputs": [],
   "source": [
    "df.loc[df.Province.isin(['291104']), 'Province'] = 'KAYES'\n",
    "df.loc[df.DistrictOfresidence.isin(['KOLONDIEBA', 'SIKASSO', 'KADIOLO', 'SELINGUE']), 'Province'] = 'SIKASSO'\n",
    "df.loc[df.DistrictOfresidence.isin(['GOURMA-RHAROUS', 'DIRE']), 'Province'] = 'TOMBOUCTOU'\n",
    "df.loc[df.DistrictOfresidence.isin(['NARA', 'FANA', 'KATI']), 'Province'] = 'KOULIKORO'\n",
    "df.loc[df.DistrictOfresidence.isin(['KORO', 'BANKASS', 'MOPTI', 'DJENNE']), 'Province'] = 'MOPTI'\n",
    "df.loc[df.DistrictOfresidence.isin(['KITA']), 'Province'] = 'KAYES'\n",
    "df.loc[df.DistrictOfresidence.isin(['COMMUNE V']), 'Province'] = 'BAMAKO'\n",
    "df.loc[df.Province.isnull(), 'Province'] = 'SIKASSO'\n",
    "assert df.Province.isnull().sum() == 0"
   ]
  },
  {
   "cell_type": "code",
   "execution_count": 121,
   "metadata": {},
   "outputs": [],
   "source": [
    "miss1 = [dis for dis in df.ReportingDistrict.unique() if dis not in cercle.CERCLE.unique()]\n",
    "miss2 = [dis for dis in df.DistrictOfresidence.unique() if dis not in cercle.CERCLE.unique()]"
   ]
  },
  {
   "cell_type": "code",
   "execution_count": 122,
   "metadata": {},
   "outputs": [],
   "source": [
    "to_replace = [{'BADIANGARA': 'BANDIAGARA', 'DOUETZA': 'DOUENTZA', 'TENENKOUN': 'TENENKOU', 'BARAOUELI': 'BAROUELI'}, \n",
    "              {'BADIANGARA': 'BANDIAGARA', 'KLE': 'KOULIKORO', 'TENENKOUN': 'TENENKOU', 'BARAOUELI': 'BAROUELI'}]\n",
    "df = replace_values(df, ['ReportingDistrict', 'DistrictOfresidence'], to_replace)"
   ]
  },
  {
   "cell_type": "code",
   "execution_count": 123,
   "metadata": {},
   "outputs": [],
   "source": [
    "df.loc[df.IdNumber=='MAI-MOP-KOR-19-071', 'ReportingDistrict'] = 'KORO'\n",
    "df.loc[df.IdNumber=='MAI-KOU-NAR-19-083', 'ReportingDistrict'] = 'NARA'\n",
    "df.loc[df.IdNumber=='MAI-BAM-CO5-20-106', 'ReportingDistrict'] = 'COMMUNE V'\n",
    "assert df.ReportingDistrict.isnull().sum() == 0"
   ]
  },
  {
   "cell_type": "code",
   "execution_count": 124,
   "metadata": {},
   "outputs": [],
   "source": [
    "df.loc[df.DistrictOfresidence.isnull(), 'DistrictOfresidence'] = df['ReportingDistrict'].ffill()\n",
    "assert df.DistrictOfresidence.isnull().sum() == 0"
   ]
  },
  {
   "cell_type": "code",
   "execution_count": 125,
   "metadata": {},
   "outputs": [],
   "source": [
    "df.loc[df.Sex.isin(['F']), 'Sex'] = 1\n",
    "df.loc[df.Sex.isin(['M']), 'Sex'] = 2"
   ]
  },
  {
   "cell_type": "code",
   "execution_count": 126,
   "metadata": {},
   "outputs": [],
   "source": [
    "datecols = ['DateReceivedFormNatLevel', 'DateRecformdistrict', 'DateHeathFacilityNotified', 'DateSeenHealthFacility', 'DateOfLastvaccination', 'DateOfOnset',\n",
    "            'DateSentFormtoDistrict', 'DateSpecimenCollected', 'DateSpecimenSentToLab', 'DateLabReceivedSpecimen', 'DateDistrictRecResults',\n",
    "            'DateLabSentResultToDistrict']\n",
    "for col in datecols:\n",
    "    df[col] = pd.to_datetime(df[col])"
   ]
  },
  {
   "cell_type": "code",
   "execution_count": 127,
   "metadata": {},
   "outputs": [],
   "source": [
    "df.loc[df['Urbanrural']=='Rural', 'Urbanrural'] = 1\n",
    "df.loc[df['Urbanrural']=='Urbain', 'Urbanrural'] = 2"
   ]
  },
  {
   "cell_type": "code",
   "execution_count": 128,
   "metadata": {},
   "outputs": [],
   "source": [
    "numcols = ['NumberOfVaccinedoses', 'Inoutpatient', 'Outcome', 'FinalClassification', 'Specimen_Source', 'SpecimenCondition111', 'YellowFeverIgM']\n",
    "for col in numcols:\n",
    "    df[col] = pd.to_numeric(df[col])"
   ]
  },
  {
   "cell_type": "code",
   "execution_count": 129,
   "metadata": {},
   "outputs": [],
   "source": [
    "df.loc[df.NumberOfVaccinedoses==99, 'NumberOfVaccinedoses'] = np.nan"
   ]
  },
  {
   "cell_type": "code",
   "execution_count": 130,
   "metadata": {},
   "outputs": [],
   "source": [
    "df = merge_columns(df, regions, ['Province'], ['REGION'], ['REGION'])\n",
    "df = merge_columns(df, cercle, ['ReportingDistrict'], ['CERCLE'], ['CERCLE'])\n",
    "df = merge_columns(df, cercle, ['DistrictOfresidence'], ['CERCLE'], ['CERCLE'])"
   ]
  },
  {
   "cell_type": "code",
   "execution_count": 131,
   "metadata": {},
   "outputs": [],
   "source": [
    "assert df.RegionIndex_x.all() == df.RegionIndex_y.all() == df.RegionIndex.all()\n",
    "df = df.drop(['RegionIndex_y', 'RegionIndex', 'Province', 'DistrictOfresidence', 'ReportingDistrict'], axis=1)\n",
    "df = df.rename(columns = {'RegionIndex_x': 'ProvinceOfResidence', 'CercleIndex_x': 'ReportingDistrict', 'CercleIndex_y': 'DistrictofResidence'})"
   ]
  },
  {
   "cell_type": "code",
   "execution_count": 132,
   "metadata": {},
   "outputs": [],
   "source": [
    "float_columns = df.loc[:, df.dtypes == float].columns.tolist()\n",
    "float_columns.remove('Age')\n",
    "for col in float_columns:\n",
    "    df[col] = df[col].astype('Int64')"
   ]
  },
  {
   "cell_type": "code",
   "execution_count": 133,
   "metadata": {},
   "outputs": [],
   "source": [
    "df.to_csv('data/YF_Cases.csv', index=False)"
   ]
  },
  {
   "cell_type": "markdown",
   "metadata": {},
   "source": [
    "### YF Classification Tables"
   ]
  },
  {
   "cell_type": "code",
   "execution_count": 49,
   "metadata": {},
   "outputs": [],
   "source": [
    "source = pd.read_excel('data/YF.xlsx', sheet_name='codeSpecimenSource111', header=0)"
   ]
  },
  {
   "cell_type": "code",
   "execution_count": 50,
   "metadata": {},
   "outputs": [],
   "source": [
    "source['SpecimenSource111'] = source['SpecimenSource111'].str[2:]\n",
    "source = source.rename({'SpecimenSource111': 'SpecimenSource'}, axis=1)\n",
    "source.to_csv('data/specimen_source.csv', index=False)"
   ]
  },
  {
   "cell_type": "markdown",
   "metadata": {
    "tags": []
   },
   "source": [
    "### Polio"
   ]
  },
  {
   "cell_type": "code",
   "execution_count": 201,
   "metadata": {},
   "outputs": [
    {
     "name": "stdout",
     "output_type": "stream",
     "text": [
      "Shape of Polio dataset: (1052, 117)\n"
     ]
    }
   ],
   "source": [
    "df = pd.read_excel('data/AFP_MAI_new.xlsx', sheet_name='Poliocases', header=0)\n",
    "print(f'Shape of Polio dataset: {df.shape}')"
   ]
  },
  {
   "cell_type": "code",
   "execution_count": 202,
   "metadata": {},
   "outputs": [],
   "source": [
    "assert df.EpidNumber.nunique() == len(df)\n",
    "assert df.UniqueKey.nunique() == len(df)"
   ]
  },
  {
   "cell_type": "code",
   "execution_count": 203,
   "metadata": {},
   "outputs": [],
   "source": [
    "list_to_drop = ['Address', 'Villageneighbourhood', 'Fathermother', 'DateOfBirth', 'NamesOfPatient', 'NotifiedBy', 'Towncity',\n",
    "                'P1', 'P2', 'P3', 'OLDDATELABSENTRESTODISTRICT', 'W1', 'W2', 'W3', 'RECSTATUS', 'Lomgitude', 'Latitude', 'DiscordantSabin',\n",
    "                'Longitude', 'OLDYRONSET', 'OLDYRONSET1', 'Yronset', 'Injectiongivenrightsite', 'Injectionleftsite', 'Datespecitonationall',\n",
    "                'DatespeciReceivedNational', 'Place1', 'Durationinmonths', 'Durationindays', 'Place2', 'Durationinmonths2', 'Durationindays2',\n",
    "                'ProvinceCode', 'Districtcode', 'Countrycode', 'CaseNumber', 'UniqueKey', 'Provisionaldiagnosis']\n",
    "cols_to_drop = [col for col in df.columns.tolist() if df[col].isnull().sum() == df.shape[0]]\n",
    "cols_to_drop += list_to_drop\n",
    "df = df.drop(cols_to_drop, axis=1)"
   ]
  },
  {
   "cell_type": "code",
   "execution_count": 204,
   "metadata": {},
   "outputs": [],
   "source": [
    "df.loc[df.AgeInYears.isnull(), 'AgeInYears'] = 0\n",
    "df.loc[df.AgeInMonths.isnull(), 'AgeInMonths'] = 0\n",
    "df['Age'] = np.round(df['AgeInYears'] + (df['AgeInMonths']*(1/12)), 1)\n",
    "df = df.drop(['AgeInYears', 'AgeInMonths'], axis=1)"
   ]
  },
  {
   "cell_type": "code",
   "execution_count": 205,
   "metadata": {},
   "outputs": [
    {
     "data": {
      "text/plain": [
       "<AxesSubplot:>"
      ]
     },
     "execution_count": 205,
     "metadata": {},
     "output_type": "execute_result"
    },
    {
     "data": {
      "image/png": "[encoded data removed]",
      "text/plain": [
       "<Figure size 432x288 with 1 Axes>"
      ]
     },
     "metadata": {
      "needs_background": "light"
     },
     "output_type": "display_data"
    }
   ],
   "source": [
    "df.Age.hist()"
   ]
  },
  {
   "cell_type": "code",
   "execution_count": 206,
   "metadata": {},
   "outputs": [],
   "source": [
    "df = clean_string(df, ['District', 'Province', 'NearestHealthfacility'])\n",
    "df = clean_commune_data(df, ['District'])"
   ]
  },
  {
   "cell_type": "code",
   "execution_count": 207,
   "metadata": {},
   "outputs": [],
   "source": [
    "df.loc[df.Province=='TAOUDENI', 'Province'] = 'TAOUDENIT'\n",
    "prov = [prov for prov in df.Province.unique() if prov not in regions.REGION.unique()]\n",
    "assert len(prov) == 0"
   ]
  },
  {
   "cell_type": "code",
   "execution_count": 208,
   "metadata": {},
   "outputs": [],
   "source": [
    "to_replace = [{'ACHOURATT': 'ACHOURAT', 'ALMOUSTRAT': 'ALMOUSTARAT'}]\n",
    "df = replace_values(df, ['District'], to_replace)\n",
    "dis = [dis for dis in df.District.unique() if dis not in cercle.CERCLE.unique()]\n",
    "assert len(dis) == 0"
   ]
  },
  {
   "cell_type": "code",
   "execution_count": 209,
   "metadata": {},
   "outputs": [],
   "source": [
    "datecols = [col for col in df.columns.tolist() if col.startswith('Date')]\n",
    "for col in datecols:\n",
    "    df[col] = pd.to_datetime(df[col])"
   ]
  },
  {
   "cell_type": "code",
   "execution_count": 210,
   "metadata": {},
   "outputs": [],
   "source": [
    "df.loc[df['Sex']=='F', 'Sex'] = 1 \n",
    "df.loc[df['Sex']=='M', 'Sex'] = 2\n",
    "df.loc[df.RNEV=='2-Non', 'RNEV'] = 2"
   ]
  },
  {
   "cell_type": "code",
   "execution_count": 211,
   "metadata": {},
   "outputs": [],
   "source": [
    "df = merge_columns(df, regions, ['Province'], ['REGION'], ['REGION'])\n",
    "df = merge_columns(df, cercle, ['District'], ['CERCLE'], ['CERCLE'])"
   ]
  },
  {
   "cell_type": "code",
   "execution_count": 212,
   "metadata": {},
   "outputs": [],
   "source": [
    "assert df.RegionIndex_x.all() == df.RegionIndex_y.all()\n",
    "df = df.drop(['RegionIndex_y', 'Province', 'District'], axis=1)\n",
    "df = df.rename(columns = {'RegionIndex_x': 'Province', 'CercleIndex': 'District'})"
   ]
  },
  {
   "cell_type": "code",
   "execution_count": 213,
   "metadata": {},
   "outputs": [],
   "source": [
    "df.to_csv('data/Polio_Cases.csv', index=False)"
   ]
  },
  {
   "cell_type": "markdown",
   "metadata": {},
   "source": [
    "### Polio Cases Classification"
   ]
  },
  {
   "cell_type": "code",
   "execution_count": 214,
   "metadata": {},
   "outputs": [],
   "source": [
    "def category_file(sheet, col, filename):\n",
    "    dt = pd.read_excel('data/AFP_MAI_new.xlsx', sheet_name=sheet, header=0)\n",
    "    dt = dt.sort_values([col]).reset_index().drop('index', axis=1)\n",
    "    dt[col] = dt[col].str[2:]\n",
    "    dt.to_csv(filename, index=False)"
   ]
  },
  {
   "cell_type": "code",
   "execution_count": 215,
   "metadata": {},
   "outputs": [],
   "source": [
    "lafup = pd.DataFrame(['True', 'False'], columns=['Boolean'])\n",
    "lafup.to_csv('data/boolean.csv', index=False)"
   ]
  },
  {
   "cell_type": "code",
   "execution_count": 216,
   "metadata": {},
   "outputs": [],
   "source": [
    "category_file('codeCasecontact', 'Casecontact', 'data/polio_casecontact.csv')\n",
    "category_file('codeRelationToIndex', 'RelationToIndex', 'data/polio_relationtoindex.csv')\n",
    "category_file('codePeriodOfExposure', 'PeriodOfExposure', 'data/polio_periodofexposure.csv')\n",
    "category_file('codeFeverAtOnset', 'FeverAtOnset', 'data/polio_yesno.csv')\n",
    "category_file('codeStoolCondition', 'StoolCondition', 'data/polio_stoolcondition.csv')\n",
    "category_file('codeFindingsAtFollowup', 'FindingsAtFollowup', 'data/polio_findingsatfollowup.csv')\n",
    "category_file('codeFinalClassification', 'FinalClassification', 'data/polio_finalclassification.csv')\n",
    "category_file('codeInjectionRsite', 'InjectionRsite', 'data/polio_injectionsite.csv')"
   ]
  }
 ],
 "metadata": {
  "kernelspec": {
   "display_name": "nlu",
   "language": "python",
   "name": "nlu"
  },
  "language_info": {
   "codemirror_mode": {
    "name": "ipython",
    "version": 3
   },
   "file_extension": ".py",
   "mimetype": "text/x-python",
   "name": "python",
   "nbconvert_exporter": "python",
   "pygments_lexer": "ipython3",
   "version": "3.8.12"
  }
 },
 "nbformat": 4,
 "nbformat_minor": 4
}
