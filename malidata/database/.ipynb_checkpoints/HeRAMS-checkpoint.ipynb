{
 "cells": [
  {
   "cell_type": "code",
   "execution_count": 1,
   "metadata": {},
   "outputs": [],
   "source": [
    "import numpy as np\n",
    "import pandas as pd\n",
    "import os\n",
    "from helper_functions import *\n",
    "from herams_helper_functions import *"
   ]
  },
  {
   "cell_type": "code",
   "execution_count": 2,
   "metadata": {},
   "outputs": [],
   "source": [
    "df = pd.read_excel('data/HeRAMS_Mali20012021.xlsx')"
   ]
  },
  {
   "cell_type": "code",
   "execution_count": 3,
   "metadata": {},
   "outputs": [],
   "source": [
    "column_names = df.loc[0, :].T.to_frame()\n",
    "column_names.reset_index(inplace=True)\n",
    "column_names = column_names.rename(columns = {'index':'Long_Name', 0: 'Short_Name'})"
   ]
  },
  {
   "cell_type": "code",
   "execution_count": 4,
   "metadata": {},
   "outputs": [],
   "source": [
    "df = pd.read_excel('data/HeRAMS_Mali20012021.xlsx', header=1)\n",
    "regions = pd.read_csv('data/regions.csv')\n",
    "cercle = pd.read_csv('data/cercle.csv')\n",
    "commune = pd.read_csv('data/commune.csv')"
   ]
  },
  {
   "cell_type": "code",
   "execution_count": 5,
   "metadata": {},
   "outputs": [],
   "source": [
    "regions = get_serial_column(regions, ['REGION'], 'RegionIndex')\n",
    "cercle = get_serial_column(cercle, ['RegionIndex', 'CERCLE'], 'CercleIndex')\n",
    "commune = get_serial_column(commune, ['RegionIndex', 'CercleIndex', 'COMMUNE'], 'CommuneIndex')"
   ]
  },
  {
   "cell_type": "code",
   "execution_count": 6,
   "metadata": {},
   "outputs": [],
   "source": [
    "assert df.workspace_id.all() == df.GEO1.all()\n",
    "cols_to_delete = [col for col in df.columns if df[col].isnull().sum() == df.shape[0]]\n",
    "df = df.drop(cols_to_delete, axis=1)"
   ]
  },
  {
   "cell_type": "code",
   "execution_count": 7,
   "metadata": {},
   "outputs": [],
   "source": [
    "df[['REGION', 'CERCLE']] = df['GEO1'].str.split('/', expand=True)\n",
    "df = df.drop(['GEO1', 'workspace_id', 'GEO3'], axis=1)"
   ]
  },
  {
   "cell_type": "code",
   "execution_count": 8,
   "metadata": {},
   "outputs": [],
   "source": [
    "original_column_order = list(df.columns[:3]) + list(df.columns[-2:]) + list(df.columns[3:-2])\n",
    "original_shape = df.shape"
   ]
  },
  {
   "cell_type": "code",
   "execution_count": 9,
   "metadata": {},
   "outputs": [],
   "source": [
    "cols_to_clean_string = ['REGION', 'CERCLE', 'GEO6', 'MoSD2', 'MoSD3', 'MoSD3other', 'HFSUP3_SQ001', 'HFSUP3_SQ002', 'HFSUP3_SQ003', 'HFSUP3_SQ004', 'HFSUP3_SQ005',\n",
    "                        'HFSUP3_SQ006', 'HFSUP3_SQ007', 'HFSUP3_SQ008', 'HFSUP3_SQ009', 'HFSUP3_SQ010']\n",
    "df = clean_string(df, cols_to_clean_string)"
   ]
  },
  {
   "cell_type": "code",
   "execution_count": 10,
   "metadata": {},
   "outputs": [],
   "source": [
    "values_to_replace = [{'SÉGOU': 'SEGOU', 'MÉNAKA': 'MENAKA', 'TAOUDÉNIT': 'TAOUDENIT'}, \n",
    "                     {'ABEÏBARA': 'ABEIBARA', 'ALMOUSTRAT': 'ALMOUSTARAT', 'BAROUÉLI': 'BAROUELI', 'DIOÏLA': 'DIOILA', 'DIRÉ': 'DIRE', 'DIÉMA': 'DIEMA',\n",
    "                      'KALABANCORO': 'KALABAN CORO', 'KÉNIÉBA': 'KENIEBA', 'MÉNAKA': 'MENAKA', 'NIAFOUNKÉ': 'NIAFUNKE', 'SÉGOU': 'SEGOU', \n",
    "                      'TAOUDÉNIT': 'TAOUDENIT', 'TENENKOUN': 'TENENKOU'}]"
   ]
  },
  {
   "cell_type": "code",
   "execution_count": 11,
   "metadata": {},
   "outputs": [],
   "source": [
    "df = replace_values(df, ['REGION', 'CERCLE'], values_to_replace)\n",
    "df = merge_columns(df, regions, ['REGION'], ['REGION'], ['REGION'])\n",
    "df = merge_columns(df, cercle, ['RegionIndex', 'CERCLE'], ['RegionIndex', 'CERCLE'], ['CERCLE'])\n",
    "df = df.rename(columns = {'RegionIndex': 'REGION', 'CercleIndex': 'CERCLE'})"
   ]
  },
  {
   "cell_type": "code",
   "execution_count": 12,
   "metadata": {},
   "outputs": [],
   "source": [
    "a = df[['REGION', 'CERCLE', 'GEO6']]\n",
    "a = a.drop_duplicates()\n",
    "a = a.sort_values(['REGION', 'CERCLE', 'GEO6'])\n",
    "a = a.reset_index().reset_index()\n",
    "a = a.drop('index', axis=1)\n",
    "a = a.rename(columns = {'level_0': 'GEO6Index'})\n",
    "a['GEO6Index'] += 1"
   ]
  },
  {
   "cell_type": "code",
   "execution_count": 13,
   "metadata": {},
   "outputs": [],
   "source": [
    "df = merge_columns(df, a, ['REGION', 'CERCLE', 'GEO6'], ['REGION', 'CERCLE', 'GEO6'], ['GEO6'])\n",
    "df = df.rename(columns = {'GEO6Index': 'GEO6'})\n",
    "assert df.shape == original_shape\n",
    "a.drop('GEO6Index', axis=1, inplace=True)\n",
    "a.to_csv('data/geo6.csv', index=False)"
   ]
  },
  {
   "cell_type": "code",
   "execution_count": 14,
   "metadata": {},
   "outputs": [],
   "source": [
    "geo5 = create_category_csv(df, 'GEO5')\n",
    "mosd3 = create_category_csv(df, 'MoSD3')\n",
    "mosd4 = create_category_csv(df, 'MoSD4')\n",
    "mosd5 = create_category_csv(df, 'MoSD5')\n",
    "mosd7 = create_category_csv(df, 'MoSD7')\n",
    "condb = create_category_csv(df, 'CONDB')\n",
    "condbx = create_category_csv(df, 'CONDBx_1')\n",
    "hffunct = create_category_csv(df, 'HFFUNCT')\n",
    "hffunctx = create_category_csv(df, 'HFFUNCTx_1')\n",
    "hfacc = create_category_csv(df, 'HFACC')\n",
    "hfaccx = create_category_csv(df, 'HFACCx_1')\n",
    "hfman = create_category_csv(df, 'HFMAN')\n",
    "hfsup1 = create_category_csv(df, 'HFSUP1')\n",
    "bawa1x = create_category_csv(df, 'BAWA1x_1')\n",
    "basa1x = create_category_csv(df, 'BASA1x_1')\n",
    "bawm2x = create_category_csv(df, 'BAWM2x_1')\n",
    "baen1x = create_category_csv(df, 'BAEN1x_1')\n",
    "baco1x = create_category_csv(df, 'BACO1x_1')\n",
    "info1x = create_category_csv(df, 'INFO1x')\n",
    "triage1 = load_category_csv('TRIAGE1')\n",
    "hfinp1 = load_category_csv('HFINP1_SQ001')\n",
    "lab1x = load_category_csv('LAB1x_1')"
   ]
  },
  {
   "cell_type": "code",
   "execution_count": 15,
   "metadata": {},
   "outputs": [],
   "source": [
    "w = list(df.columns[140:-3])"
   ]
  },
  {
   "cell_type": "code",
   "execution_count": 16,
   "metadata": {},
   "outputs": [],
   "source": [
    "qherams = [q for i, q in enumerate(w) if '_' not in q]\n",
    "qheramsx = [q for i, q in enumerate(w) if '_' in q]"
   ]
  },
  {
   "cell_type": "code",
   "execution_count": 17,
   "metadata": {},
   "outputs": [],
   "source": [
    "#hfinp1.loc[hfinp1.CATEGORIES=='Disponible mais insuffisante', 'CATEGORIES'] = 'Disponible mais insuffisant'\n",
    "#hfinp1_append = {6: 'Disponible et suffisant'}\n",
    "#hfinp1 = append_categories(hfinp1, hfinp1_append)\n",
    "column_list = ['INFO1', 'INFO2', 'INFO3'] + qherams\n",
    "for col in column_list:\n",
    "    df.loc[df[col]=='Non disponible', col] = 'Pas disponible'\n",
    "hfinp1_cols = ['BAWA1', 'BASA1', 'BAWM1', 'BAWM2', 'BAWM3', 'BAEN1', 'BACO1', 'BACC1']\n",
    "for col in hfinp1_cols:\n",
    "    df.loc[df[col]=='Disponible et suffisant', col] = 'Disponible et suffisante'\n",
    "    df.loc[df[col]=='Disponible mais insuffisant', col] = 'Disponible mais insuffisante'"
   ]
  },
  {
   "cell_type": "code",
   "execution_count": 18,
   "metadata": {},
   "outputs": [],
   "source": [
    "list_of_unique_categorical_columns = ['GEO5', 'MoSD3', 'MoSD4', 'MoSD5', 'MoSD7', 'CONDB', 'CONDBx_1', 'HFFUNCT', 'HFFUNCTx_1', 'HFACC', 'HFACCx_1', 'HFMAN', 'HFSUP1', \n",
    "                                      'BAWA1x_1', 'BASA1x_1', 'BAWM2x_1', 'BAEN1x_1', 'BACO1x_1', 'INFO1x']\n",
    "condb_cols = ['CONDE']\n",
    "condbx_cols = ['CONDBx_2', 'CONDBx_3', 'CONDEx_1', 'CONDEx_2', 'CONDEx_3']\n",
    "hffunctx_cols = ['HFFUNCTx_2', 'HFFUNCTx_3']\n",
    "hfaccx_cols = ['HFACCx_2', 'HFACCx_3']\n",
    "bawa1x_cols = ['BAWA1x_2', 'BAWA1x_3']\n",
    "basa1x_cols = ['BASA1x_2', 'BASA1x_3']\n",
    "bawm2x_cols = ['BAWM2x_2', 'BAWM2x_3', 'BAWM3x_1', 'BAWM3x_2', 'BAWM3x_3']\n",
    "baen1x_cols = ['BAEN1x_2', 'BAEN1x_3', 'BACC1x_1', 'BACC1x_2', 'BACC1x_3']\n",
    "baco1x_cols = ['BACO1x_2', 'BACO1x_3']\n",
    "triage1_cols = ['INFO1', 'INFO2', 'INFO3'] + qherams\n",
    "info1x_cols = ['INFO2x', 'INFO3x']\n",
    "lab1x_cols = qheramsx\n",
    "list_of_column_lists = [condb_cols, condbx_cols, hffunctx_cols, hfaccx_cols, hfinp1_cols, bawa1x_cols, basa1x_cols, bawm2x_cols, baen1x_cols, baco1x_cols,\n",
    "                        triage1_cols, info1x_cols, lab1x_cols]"
   ]
  },
  {
   "cell_type": "code",
   "execution_count": 19,
   "metadata": {},
   "outputs": [],
   "source": [
    "list_of_unique_categorical_dataframes = [geo5, mosd3, mosd4, mosd5, mosd7, condb, condbx, hffunct, hffunctx, hfacc, hfaccx, hfman, hfsup1, bawa1x, basa1x, bawm2x,\n",
    "                                         baen1x, baco1x, info1x, triage1, hfinp1, lab1x]\n",
    "reduced_list_of_categorical_dataframes = [condb, condbx, hffunctx, hfaccx, hfinp1, bawa1x, basa1x, bawm2x, baen1x, baco1x, triage1, info1x, lab1x]\n",
    "assert len(list_of_unique_categorical_columns) == len(list_of_unique_categorical_dataframes) - 3\n",
    "assert len(list_of_column_lists) == len(reduced_list_of_categorical_dataframes)"
   ]
  },
  {
   "cell_type": "code",
   "execution_count": 20,
   "metadata": {},
   "outputs": [],
   "source": [
    "for i, col in enumerate(list_of_unique_categorical_columns):\n",
    "    df = df.merge(list_of_unique_categorical_dataframes[i], left_on=col, right_on='CATEGORIES', how='left')\n",
    "    df = df.drop(['CATEGORIES', col], axis=1)\n",
    "    df = df.rename(columns={'ID': col})\n",
    "assert original_shape == df.shape"
   ]
  },
  {
   "cell_type": "code",
   "execution_count": 21,
   "metadata": {},
   "outputs": [],
   "source": [
    "for i, data in enumerate(reduced_list_of_categorical_dataframes):\n",
    "    list_of_columns = list_of_column_lists[i]\n",
    "    df = convert_to_numerical_category(df, data, list_of_columns)"
   ]
  },
  {
   "cell_type": "code",
   "execution_count": 22,
   "metadata": {},
   "outputs": [],
   "source": [
    "float_columns = df.loc[:, df.dtypes == float].columns.tolist()\n",
    "float_columns.remove('MoSDGPS_SQ001')\n",
    "float_columns.remove('MoSDGPS_SQ002')\n",
    "float_columns.append('GEO5')\n",
    "for col in float_columns:\n",
    "    df[col] = df[col].astype('Int64')"
   ]
  },
  {
   "cell_type": "code",
   "execution_count": 23,
   "metadata": {},
   "outputs": [],
   "source": [
    "assert df.shape == original_shape\n",
    "df = df[original_column_order]"
   ]
  },
  {
   "cell_type": "code",
   "execution_count": 24,
   "metadata": {},
   "outputs": [],
   "source": [
    "df.to_csv('data/HeRAMS_Mali_Normalized.csv', index=False)"
   ]
  },
  {
   "cell_type": "code",
   "execution_count": 25,
   "metadata": {},
   "outputs": [],
   "source": [
    "updated_list_of_dataframes = list_of_unique_categorical_dataframes[:-3]\n",
    "for i, d in enumerate(updated_list_of_dataframes):\n",
    "    d = d.drop('ID', axis=1)\n",
    "    col = list_of_unique_categorical_columns[i]\n",
    "    d.to_csv(f'data/herams_{col}_categories.csv', index=False)"
   ]
  },
  {
   "cell_type": "code",
   "execution_count": 26,
   "metadata": {},
   "outputs": [],
   "source": [
    "df_columns = pd.Series(df.columns).to_frame()\n",
    "df_columns = df_columns.rename(columns={0: 'Short_Name'})\n",
    "column_names = column_names.merge(df_columns, how='right', on='Short_Name')"
   ]
  },
  {
   "cell_type": "code",
   "execution_count": 27,
   "metadata": {},
   "outputs": [],
   "source": [
    "column_names.loc[column_names['Short_Name'] == 'REGION', 'Long_Name'] = 'Region'\n",
    "column_names.loc[column_names['Short_Name'] == 'CERCLE', 'Long_Name'] = 'District Sanitaire'"
   ]
  },
  {
   "cell_type": "code",
   "execution_count": 28,
   "metadata": {},
   "outputs": [],
   "source": [
    "column_names.to_csv('data/herams_column_names.csv', index=False)"
   ]
  },
  {
   "cell_type": "code",
   "execution_count": 29,
   "metadata": {},
   "outputs": [],
   "source": [
    "df2 = pd.read_excel('data/HeRAMS_Mali20012021.xlsx', header=1)"
   ]
  },
  {
   "cell_type": "code",
   "execution_count": 115,
   "metadata": {},
   "outputs": [],
   "source": [
    "q = pd.read_csv('data/mosd2_to_delete.csv')"
   ]
  },
  {
   "cell_type": "code",
   "execution_count": 119,
   "metadata": {},
   "outputs": [],
   "source": [
    "count = 0\n",
    "notin = []\n",
    "for m in list(q.MoSD2.unique()):\n",
    "    if m in list(df.MoSD2.unique()):\n",
    "        count += 1\n",
    "    else:\n",
    "        notin.append(m)"
   ]
  },
  {
   "cell_type": "code",
   "execution_count": 189,
   "metadata": {},
   "outputs": [
    {
     "data": {
      "text/plain": [
       "[]"
      ]
     },
     "execution_count": 189,
     "metadata": {},
     "output_type": "execute_result"
    }
   ],
   "source": [
    "w = list(df.MoSD2.unique())\n",
    "s = 'SEREFO'\n",
    "inst = [x for x in w if s in x]\n",
    "inst"
   ]
  },
  {
   "cell_type": "code",
   "execution_count": 186,
   "metadata": {},
   "outputs": [],
   "source": [
    "dicti = {'CSREF OUELESSEBOUGOU': 'CSREF DE OUELESSEBOUGOU', 'CSREF KALABANCORO': 'CSREF DE KALABANCORO', 'CSREF DE KATI': 'CSREF KATI',\n",
    "        'CSREF MACINA': 'CSREF DE MACINA', 'CSREF DE BLA': 'CENTRE DE SANTÉ DE RÉFÉRENCE DE BLA', 'CHU POINT G': \"CHU DE L'HOPITAL DE POINT G\",\n",
    "        'HÔPITAL DE DERMATOLOGIE DE BAMAKO': 'HOPITAL DERMATOLOGIE DE BAMAKO', 'HÔPITAL SOMINO DOLO': 'HÔPITAL SOMINE DOLO DE MOPTI',\n",
    "        'CSREF DE KIGNAN': 'CSRÉF DE KIGNAN', 'CSREF DE NIENA': 'CSRÉF NIENA', 'CSREF DE MOPTI': 'CSRÉF DE MOPTI', 'HOPITAL DE KATI': 'CHU KATI',\n",
    "        'GOLDEN LIFE AMERICAN HOSPITAL': 'GOLDEN LIFE', 'POLYCLINIQUE PASTEUR': 'PASTEUR', 'HOPITAL DU MALI': 'CHU DE HOPITAL DU MALI',\n",
    "        'CSREF DE OUSSOUBIDAGNAN': 'OUSSOUBIDIAGNA'}"
   ]
  },
  {
   "cell_type": "code",
   "execution_count": 187,
   "metadata": {},
   "outputs": [],
   "source": [
    "y = [k for k, _ in dicti.items()]"
   ]
  },
  {
   "cell_type": "code",
   "execution_count": 188,
   "metadata": {},
   "outputs": [
    {
     "data": {
      "text/plain": [
       "['INSTITUT NATIONAL DE SANTÉ PUBLIQUE (INSP)',\n",
       " 'LABORATOIRE UCRC (EX-SEREFO)',\n",
       " \"CENTRE D'INFECTIOLOGIE CHARLES MÉRIEUX DU MALI (CICM)\",\n",
       " 'POLYCLINIQUE ROI MOHAMED VI',\n",
       " 'LABORATOIRE DE BIOLOGIE MOLÉCULAIRE APPPLIQUÉE (LBMA)',\n",
       " 'CHU BOCAR SIDY SALL KATI',\n",
       " 'CSREF DE BARAOUELI']"
      ]
     },
     "execution_count": 188,
     "metadata": {},
     "output_type": "execute_result"
    }
   ],
   "source": [
    "t = [a for a in notin if a not in y]\n",
    "t"
   ]
  },
  {
   "cell_type": "code",
   "execution_count": null,
   "metadata": {},
   "outputs": [],
   "source": []
  }
 ],
 "metadata": {
  "kernelspec": {
   "display_name": "nlu",
   "language": "python",
   "name": "nlu"
  },
  "language_info": {
   "codemirror_mode": {
    "name": "ipython",
    "version": 3
   },
   "file_extension": ".py",
   "mimetype": "text/x-python",
   "name": "python",
   "nbconvert_exporter": "python",
   "pygments_lexer": "ipython3",
   "version": "3.8.12"
  }
 },
 "nbformat": 4,
 "nbformat_minor": 4
}
