{
 "cells": [
  {
   "cell_type": "code",
   "execution_count": 58,
   "metadata": {},
   "outputs": [],
   "source": [
    "import numpy as np\n",
    "import pandas as pd\n",
    "import os\n",
    "from helper_functions import *\n",
    "from herams_helper_functions import *"
   ]
  },
  {
   "cell_type": "code",
   "execution_count": 59,
   "metadata": {},
   "outputs": [],
   "source": [
    "def reorder_columns(data, colnum):\n",
    "    cols = data.columns.tolist()\n",
    "    cols = cols[colnum:] + cols[:colnum]\n",
    "    data = data[cols]\n",
    "    return data"
   ]
  },
  {
   "cell_type": "code",
   "execution_count": 60,
   "metadata": {},
   "outputs": [],
   "source": [
    "def clean_commune_data(data, cols):\n",
    "    for col in cols:\n",
    "        data.loc[data[col] == 'COMMUNE 1', col] = 'COMMUNE I'\n",
    "        data.loc[data[col] == 'COMMUNE 2', col] = 'COMMUNE II'\n",
    "        data.loc[data[col] == 'COMMUNE 3', col] = 'COMMUNE III'\n",
    "        data.loc[data[col] == 'COMMUNE 4', col] = 'COMMUNE IV'\n",
    "        data.loc[data[col] == 'COMMUNE 5', col] = 'COMMUNE V'\n",
    "        data.loc[data[col] == 'COMMUNE 6', col] = 'COMMUNE VI'\n",
    "    return data"
   ]
  },
  {
   "cell_type": "code",
   "execution_count": 61,
   "metadata": {},
   "outputs": [],
   "source": [
    "regions = pd.read_csv('data/regions.csv')\n",
    "cercle = pd.read_csv('data/cercle.csv')\n",
    "regions = get_serial_column(regions, ['REGION'], 'RegionIndex')\n",
    "cercle = get_serial_column(cercle, ['RegionIndex', 'CERCLE'], 'CercleIndex')"
   ]
  },
  {
   "cell_type": "code",
   "execution_count": 62,
   "metadata": {},
   "outputs": [],
   "source": [
    "df = pd.read_excel('data/Measles.xlsx', sheet_name='Genericcasebased', header=0)"
   ]
  },
  {
   "cell_type": "code",
   "execution_count": 63,
   "metadata": {},
   "outputs": [],
   "source": [
    "df = clean_string(df, ['ReportingDistrict', 'ReportingHealthfacility', 'DistrictofResidence', 'ProvinceOfResidence'])\n",
    "df = clean_commune_data(df, ['ReportingDistrict', 'DistrictofResidence'])"
   ]
  },
  {
   "cell_type": "code",
   "execution_count": 64,
   "metadata": {},
   "outputs": [],
   "source": [
    "list_to_drop = ['BlankVariable1', 'BlankVariable2', 'CountryCode', 'NamesOfPatient', 'RECSTATUS', 'PatientsResidence', 'Towncity', 'DateOfBirth']\n",
    "cols_to_drop = [col for col in df.columns.tolist() if df[col].isnull().sum() == df.shape[0]]\n",
    "cols_to_drop += list_to_drop\n",
    "df = df.drop(cols_to_drop, axis=1)"
   ]
  },
  {
   "cell_type": "code",
   "execution_count": 68,
   "metadata": {},
   "outputs": [],
   "source": [
    "miss = [dis for dis in df.ReportingDistrict.unique() if dis not in cercle.CERCLE.unique()]"
   ]
  },
  {
   "cell_type": "code",
   "execution_count": 69,
   "metadata": {},
   "outputs": [
    {
     "data": {
      "text/plain": [
       "['TENENKOUN',\n",
       " 'BARAOUELI',\n",
       " 'TINESSAKO',\n",
       " 'O',\n",
       " 'KALABANCORO',\n",
       " 'ACHOURATT',\n",
       " 'ALMOUSTRAT',\n",
       " 'ALOURCHE']"
      ]
     },
     "execution_count": 69,
     "metadata": {},
     "output_type": "execute_result"
    }
   ],
   "source": [
    "miss"
   ]
  },
  {
   "cell_type": "code",
   "execution_count": 55,
   "metadata": {},
   "outputs": [
    {
     "data": {
      "text/html": [
       "<div>\n",
       "<style scoped>\n",
       "    .dataframe tbody tr th:only-of-type {\n",
       "        vertical-align: middle;\n",
       "    }\n",
       "\n",
       "    .dataframe tbody tr th {\n",
       "        vertical-align: top;\n",
       "    }\n",
       "\n",
       "    .dataframe thead th {\n",
       "        text-align: right;\n",
       "    }\n",
       "</style>\n",
       "<table border=\"1\" class=\"dataframe\">\n",
       "  <thead>\n",
       "    <tr style=\"text-align: right;\">\n",
       "      <th></th>\n",
       "      <th>DistrictofResidence</th>\n",
       "      <th>ProvinceOfResidence</th>\n",
       "    </tr>\n",
       "  </thead>\n",
       "  <tbody>\n",
       "    <tr>\n",
       "      <th>6756</th>\n",
       "      <td>TOMINIAN</td>\n",
       "      <td>SEGOU</td>\n",
       "    </tr>\n",
       "  </tbody>\n",
       "</table>\n",
       "</div>"
      ],
      "text/plain": [
       "     DistrictofResidence ProvinceOfResidence\n",
       "6756            TOMINIAN               SEGOU"
      ]
     },
     "execution_count": 55,
     "metadata": {},
     "output_type": "execute_result"
    }
   ],
   "source": [
    "df.loc[df.ReportingDistrict == 'O', ['DistrictofResidence', 'ProvinceOfResidence']]"
   ]
  },
  {
   "cell_type": "code",
   "execution_count": 35,
   "metadata": {},
   "outputs": [
    {
     "data": {
      "text/plain": [
       "IDNumber                           0\n",
       "CountryCode                        0\n",
       "ReportingDistrict                  0\n",
       "ReportingHealthfacility          213\n",
       "DataType                       12445\n",
       "DateReceivedNatlevel            3080\n",
       "NamesOfPatient                     0\n",
       "DateOfBirth                    11406\n",
       "AgeInyears                        55\n",
       "AgeInmonths                     8876\n",
       "Age                               27\n",
       "Sex                               23\n",
       "PatientsResidence                914\n",
       "Towncity                         793\n",
       "DistrictofResidence                1\n",
       "ProvinceOfResidence                1\n",
       "Urbanrural                      1499\n",
       "DateSeenHealthFacility          2734\n",
       "DateHealthfacilitynotified      2982\n",
       "DateOfonset                        0\n",
       "NumberOfVaccinedoses               9\n",
       "DateOfLastvaccination          11128\n",
       "BlankVariable1                 11194\n",
       "BlankVariable2                  3374\n",
       "Inoutpatient                       3\n",
       "Outcome                            0\n",
       "FinalClassification                0\n",
       "DateSentFormtodistrict          3790\n",
       "DateRecformdistrict             3771\n",
       "DateSpecimencollected           3754\n",
       "DateSpecimenSenttolab           3777\n",
       "DateLabReceivedSpecimen         3775\n",
       "SpecimenCondition               3768\n",
       "MeaslesIgm                      1286\n",
       "RubellaIgm                      3711\n",
       "OtherLabResults                12435\n",
       "DateLabSentResulttodistrict     5472\n",
       "DateDistrictRecLabResults       5964\n",
       "UniqueKey                          0\n",
       "RECSTATUS                        191\n",
       "dtype: int64"
      ]
     },
     "execution_count": 35,
     "metadata": {},
     "output_type": "execute_result"
    }
   ],
   "source": [
    "df.isnull().sum()"
   ]
  },
  {
   "cell_type": "code",
   "execution_count": 90,
   "metadata": {},
   "outputs": [],
   "source": [
    "l1 = [[1,2,3,4,5], [2,3,4,8,9], [3,4,5,4,6]]\n",
    "l2 = ['one', 'two', 'three']"
   ]
  },
  {
   "cell_type": "code",
   "execution_count": 91,
   "metadata": {},
   "outputs": [],
   "source": [
    "df = pd.DataFrame({l: l1[i] for i, l in enumerate(l2)})"
   ]
  },
  {
   "cell_type": "code",
   "execution_count": 92,
   "metadata": {},
   "outputs": [
    {
     "data": {
      "text/html": [
       "<div>\n",
       "<style scoped>\n",
       "    .dataframe tbody tr th:only-of-type {\n",
       "        vertical-align: middle;\n",
       "    }\n",
       "\n",
       "    .dataframe tbody tr th {\n",
       "        vertical-align: top;\n",
       "    }\n",
       "\n",
       "    .dataframe thead th {\n",
       "        text-align: right;\n",
       "    }\n",
       "</style>\n",
       "<table border=\"1\" class=\"dataframe\">\n",
       "  <thead>\n",
       "    <tr style=\"text-align: right;\">\n",
       "      <th></th>\n",
       "      <th>one</th>\n",
       "      <th>two</th>\n",
       "      <th>three</th>\n",
       "    </tr>\n",
       "  </thead>\n",
       "  <tbody>\n",
       "    <tr>\n",
       "      <th>0</th>\n",
       "      <td>1</td>\n",
       "      <td>2</td>\n",
       "      <td>3</td>\n",
       "    </tr>\n",
       "    <tr>\n",
       "      <th>1</th>\n",
       "      <td>2</td>\n",
       "      <td>3</td>\n",
       "      <td>4</td>\n",
       "    </tr>\n",
       "    <tr>\n",
       "      <th>2</th>\n",
       "      <td>3</td>\n",
       "      <td>4</td>\n",
       "      <td>5</td>\n",
       "    </tr>\n",
       "    <tr>\n",
       "      <th>3</th>\n",
       "      <td>4</td>\n",
       "      <td>8</td>\n",
       "      <td>4</td>\n",
       "    </tr>\n",
       "    <tr>\n",
       "      <th>4</th>\n",
       "      <td>5</td>\n",
       "      <td>9</td>\n",
       "      <td>6</td>\n",
       "    </tr>\n",
       "  </tbody>\n",
       "</table>\n",
       "</div>"
      ],
      "text/plain": [
       "   one  two  three\n",
       "0    1    2      3\n",
       "1    2    3      4\n",
       "2    3    4      5\n",
       "3    4    8      4\n",
       "4    5    9      6"
      ]
     },
     "execution_count": 92,
     "metadata": {},
     "output_type": "execute_result"
    }
   ],
   "source": [
    "df"
   ]
  },
  {
   "cell_type": "code",
   "execution_count": null,
   "metadata": {},
   "outputs": [],
   "source": []
  }
 ],
 "metadata": {
  "kernelspec": {
   "display_name": "nlu",
   "language": "python",
   "name": "nlu"
  },
  "language_info": {
   "codemirror_mode": {
    "name": "ipython",
    "version": 3
   },
   "file_extension": ".py",
   "mimetype": "text/x-python",
   "name": "python",
   "nbconvert_exporter": "python",
   "pygments_lexer": "ipython3",
   "version": "3.8.12"
  }
 },
 "nbformat": 4,
 "nbformat_minor": 4
}
