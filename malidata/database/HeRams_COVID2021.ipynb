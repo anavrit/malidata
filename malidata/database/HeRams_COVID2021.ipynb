{
 "cells": [
  {
   "cell_type": "code",
   "execution_count": 1,
   "id": "88438fbd-1f88-4b48-b77e-fa711499cb7f",
   "metadata": {},
   "outputs": [],
   "source": [
    "import pandas as pd\n",
    "import numpy as np\n",
    "import os\n",
    "from helper_functions import *\n",
    "from herams_helper_functions import *"
   ]
  },
  {
   "cell_type": "code",
   "execution_count": 2,
   "id": "ef7c2606-09a6-44af-8216-427d879bf1a5",
   "metadata": {},
   "outputs": [],
   "source": [
    "df = pd.read_excel('data/HeRAMS_Mali_COVID_20012021.xlsx')"
   ]
  },
  {
   "cell_type": "code",
   "execution_count": 3,
   "id": "2c3930f1-f6ed-45c8-93b7-a3c1dd27b6e3",
   "metadata": {},
   "outputs": [],
   "source": [
    "column_names = df.loc[0, :].T.to_frame()\n",
    "column_names.reset_index(inplace=True)\n",
    "column_names = column_names.rename(columns = {'index':'Long_Name', 0: 'Short_Name'})"
   ]
  },
  {
   "cell_type": "code",
   "execution_count": 4,
   "id": "e68ce02c-9691-412d-9b04-4bb3f4fd9424",
   "metadata": {},
   "outputs": [],
   "source": [
    "df = pd.read_excel('data/HeRAMS_Mali_COVID_20012021.xlsx', header=1)\n",
    "regions = pd.read_csv('data/regions.csv')\n",
    "cercle = pd.read_csv('data/cercle.csv')\n",
    "commune = pd.read_csv('data/commune.csv')"
   ]
  },
  {
   "cell_type": "code",
   "execution_count": 5,
   "id": "08ed4014-00c1-4331-81ba-40c8572994a1",
   "metadata": {},
   "outputs": [],
   "source": [
    "regions = get_serial_column(regions, ['REGION'], 'RegionIndex')\n",
    "cercle = get_serial_column(cercle, ['RegionIndex', 'CERCLE'], 'CercleIndex')\n",
    "commune = get_serial_column(commune, ['RegionIndex', 'CercleIndex', 'COMMUNE'], 'CommuneIndex')"
   ]
  },
  {
   "cell_type": "code",
   "execution_count": 6,
   "id": "f01fbe2d-0094-494c-a578-2d2da2a2495c",
   "metadata": {},
   "outputs": [],
   "source": [
    "assert df.workspace_id.all() == df.GEO1.all()\n",
    "cols_to_delete = [col for col in df.columns if df[col].isnull().sum() == df.shape[0]]\n",
    "df = df.drop(cols_to_delete, axis=1)"
   ]
  },
  {
   "cell_type": "code",
   "execution_count": 7,
   "id": "0a9c826e-3f1b-4c4e-9daf-43ac1c7e50ca",
   "metadata": {},
   "outputs": [],
   "source": [
    "df[['REGION', 'CERCLE']] = df['GEO1'].str.split('/', expand=True)\n",
    "df = df.drop(['GEO1', 'workspace_id', 'GEO3', 'HFOXY2other'], axis=1)"
   ]
  },
  {
   "cell_type": "code",
   "execution_count": 8,
   "id": "cf24e3bd-81e8-4771-b00f-0c89fbfccb66",
   "metadata": {},
   "outputs": [],
   "source": [
    "original_column_order = list(df.columns[:3]) + list(df.columns[-2:]) + list(df.columns[3:-2])\n",
    "original_shape = df.shape"
   ]
  },
  {
   "cell_type": "code",
   "execution_count": 9,
   "id": "793f8098-e975-488a-b057-64fdf1991a56",
   "metadata": {},
   "outputs": [],
   "source": [
    "cols_to_clean_string = ['REGION', 'CERCLE', 'GEO6', 'MoSD2', 'MoSD3', 'MoSD3other', 'MoSD6']\n",
    "df = clean_string(df, cols_to_clean_string)"
   ]
  },
  {
   "cell_type": "code",
   "execution_count": 10,
   "id": "78668c7c-af0c-4fe0-873d-bd8cc3c215ed",
   "metadata": {},
   "outputs": [],
   "source": [
    "values_to_replace = [{'SÉGOU': 'SEGOU', 'MÉNAKA': 'MENAKA'}, {'DIÉMA': 'DIEMA', 'KÉNIÉBA': 'KENIEBA', 'DIOÏLA': 'DIOILA', 'MÉNAKA': 'MENAKA', 'KALABANCORO': 'KALABAN CORO',\n",
    "                  'NIAFOUNKÉ': 'NIAFUNKE', 'TENENKOUN': 'TENENKOU', 'BAROUÉLI': 'BAROUELI', 'SÉGOU': 'SEGOU', 'DIRÉ': 'DIRE'}]"
   ]
  },
  {
   "cell_type": "code",
   "execution_count": 11,
   "id": "3977fcd7-d165-45fa-bffd-2ec14262f9e6",
   "metadata": {},
   "outputs": [],
   "source": [
    "df = replace_values(df, ['REGION', 'CERCLE'], values_to_replace)\n",
    "df = merge_columns(df, regions, ['REGION'], ['REGION'], ['REGION'])\n",
    "df = merge_columns(df, cercle, ['RegionIndex', 'CERCLE'], ['RegionIndex', 'CERCLE'], ['CERCLE'])"
   ]
  },
  {
   "cell_type": "code",
   "execution_count": 12,
   "id": "e4cf4e51-9a5d-43f4-8b93-2c315e4ba130",
   "metadata": {},
   "outputs": [],
   "source": [
    "df = df.rename(columns = {'RegionIndex': 'REGION', 'CercleIndex': 'CERCLE'})"
   ]
  },
  {
   "cell_type": "code",
   "execution_count": 13,
   "id": "0e8b75a6-eeff-48b0-a724-72a5499aec8c",
   "metadata": {},
   "outputs": [],
   "source": [
    "a = df[['REGION', 'CERCLE', 'GEO6']]\n",
    "a = a.drop_duplicates()\n",
    "a = a.sort_values(['REGION', 'CERCLE', 'GEO6'])\n",
    "a = a.reset_index().reset_index()\n",
    "a = a.drop('index', axis=1)\n",
    "a = a.rename(columns = {'level_0': 'GEO6Index'})\n",
    "a['GEO6Index'] += 1\n",
    "a.to_csv('data/herams_GEO6_localite.csv', index=False)"
   ]
  },
  {
   "cell_type": "code",
   "execution_count": 14,
   "id": "201fe47c-e70d-458f-b51e-4f9a4e09ef0c",
   "metadata": {},
   "outputs": [],
   "source": [
    "df = merge_columns(df, a, ['REGION', 'CERCLE', 'GEO6'], ['REGION', 'CERCLE', 'GEO6'], ['GEO6'])\n",
    "df = df.rename(columns = {'GEO6Index': 'GEO6'})"
   ]
  },
  {
   "cell_type": "code",
   "execution_count": 15,
   "id": "7e77f5e2-318c-476d-a32f-1c5269ceaf3d",
   "metadata": {},
   "outputs": [],
   "source": [
    "mosd3 = load_category_csv('MoSD3')\n",
    "mosd3_append = {10: 'LABORATOIRE P2', 11: 'LABORATOIRE P3'}\n",
    "mosd3 = append_categories(mosd3, mosd3_append)"
   ]
  },
  {
   "cell_type": "code",
   "execution_count": 16,
   "id": "27173eac-f393-41fa-bfb3-b9ee60554a8d",
   "metadata": {},
   "outputs": [],
   "source": [
    "mosd4 = load_category_csv('MoSD4')\n",
    "mosd5 = load_category_csv('MoSD5')\n",
    "mosd7 = load_category_csv('MoSD7')\n",
    "hffunct = load_category_csv('HFFUNCT')"
   ]
  },
  {
   "cell_type": "code",
   "execution_count": 17,
   "id": "f482477b-9c64-47a0-9f72-cc11e6f450b2",
   "metadata": {},
   "outputs": [],
   "source": [
    "imst1 = create_category_csv(df, 'IMST1')\n",
    "scren1 = create_category_csv(df, 'SCREN1')\n",
    "triage1 = create_category_csv(df, 'TRIAGE1')\n",
    "hfinp3 = create_category_csv(df, 'HFINP3')\n",
    "hfinp1 = create_category_csv(df, 'HFINP1_SQ001')\n",
    "hfinp1y = create_category_csv(df, 'HFINP1y')\n",
    "lab1x = create_category_csv(df, 'LAB1x_1')\n",
    "hfipc3x = create_category_csv(df, 'HFIPC3x_1')\n",
    "hfgaps = create_category_csv(df, 'HFGAPS1_1')"
   ]
  },
  {
   "cell_type": "code",
   "execution_count": 18,
   "id": "70e48de1-2d37-4077-9426-7756a1d4b5c7",
   "metadata": {},
   "outputs": [],
   "source": [
    "df.loc[df['MoSD3'] == 'CSREF: CENTRE DE SANTÉ DE RÉFÉRENCE', 'MoSD3'] = 'CENTRE DE SANTÉ DE RÉFÉRENCE'\n",
    "df.loc[df['LAB1'] == 'Pas prévu', 'LAB1'] = 'Non prévu'\n",
    "df.loc[df['DIAG1'] == 'Pas prévu', 'DIAG1'] = 'Non prévu'\n",
    "df.loc[df['DIAG2'] == 'Pas prévu', 'DIAG2'] = 'Non prévu'\n",
    "df.loc[df['DIAG3'] == 'Pas prévu', 'DIAG3'] = 'Non prévu'\n",
    "df.loc[df['HFIPC3'] == 'Disponible et suffisant', 'HFIPC3'] = 'Suffisante'"
   ]
  },
  {
   "cell_type": "code",
   "execution_count": 19,
   "id": "a337a289-81f9-4cfb-8e70-db5e7da3cf72",
   "metadata": {},
   "outputs": [],
   "source": [
    "hfinp1_append = {5: 'Insuffisante', 6: 'Disponible', 7: 'Disponible et suffisante'}\n",
    "hfipc3x_append = {7: 'Combustion à ciel ouvert', 8: 'Autre'}\n",
    "hfgaps_append = {6: 'Autre'}\n",
    "hfinp1 = append_categories(hfinp1, hfinp1_append)\n",
    "hfipc3x = append_categories(hfipc3x, hfipc3x_append)\n",
    "hfgaps = append_categories(hfgaps, hfgaps_append)"
   ]
  },
  {
   "cell_type": "code",
   "execution_count": 20,
   "id": "06dd6924-9423-48fb-a01d-02792d5592c8",
   "metadata": {},
   "outputs": [],
   "source": [
    "assert original_shape == df.shape"
   ]
  },
  {
   "cell_type": "code",
   "execution_count": 21,
   "id": "d20330de-8e6b-4ff6-a2ec-4a6a3c1504a0",
   "metadata": {},
   "outputs": [],
   "source": [
    "list_of_unique_categorical_columns = ['MoSD3', 'MoSD4', 'MoSD5', 'MoSD7', 'HFFUNCT', 'IMST1', 'SCREN1', 'TRIAGE1', 'HFINP3', 'HFINP1_SQ001', 'HFINP1y', 'LAB1x_1', \n",
    "                                      'HFIPC3x_1', 'HFGAPS1_1']\n",
    "list_of_unique_categorical_dataframes = [mosd3, mosd4, mosd5, mosd7, hffunct, imst1, scren1, triage1, hfinp3, hfinp1, hfinp1y, lab1x, hfipc3x, hfgaps]\n",
    "reduced_list_of_categorical_dataframes = [triage1, hfinp3, hfinp1, hfinp1y, lab1x, hfipc3x, hfgaps]\n",
    "assert len(list_of_unique_categorical_columns) == len(list_of_unique_categorical_dataframes)"
   ]
  },
  {
   "cell_type": "code",
   "execution_count": 22,
   "id": "08b704c1-7c08-480c-b798-956b24db1d07",
   "metadata": {},
   "outputs": [],
   "source": [
    "assert original_shape == df.shape"
   ]
  },
  {
   "cell_type": "code",
   "execution_count": 23,
   "id": "8c744d93-d8c5-4dc7-8ff9-2e1bd64807b9",
   "metadata": {},
   "outputs": [],
   "source": [
    "hfinp1x = ['HFINP1_SQ002', 'HFINP1_SQ003', 'LAB1', 'DIAG1', 'HFEQP1_SQ001', 'HFEQP1_SQ002', 'HFEQP1_SQ003', 'HFEQP1_SQ004', 'HFEQP1_SQ005',\n",
    "           'HFOXY1', 'HRCAP1_SQ001', 'HRCAP1_SQ002', 'HRCAP1_SQ003', 'HRCAP1_SQ004', 'HRCAP1_SQ005', 'HRCAP1_SQ006', 'HRCAP1_SQ007', 'HRCAP1_SQ008', 'HRCAP1_SQ009',\n",
    "           'HRCAP1_SQ010', 'HFIPC1', 'HFIPC2_SQ001', 'HFIPC2_SQ002', 'HFIPC2_SQ003', 'HFIPC2_SQ004', 'HFIPC2_SQ005', 'HFIPC2_SQ006', 'HFIPC2_SQ007', 'HFIPC2_SQ008',\n",
    "           'HFIPC3', 'MORGUE1', 'MORGUE2', 'HFIPC2_SQ009']\n",
    "hfinp3x = ['SCREN1x_SQ001', 'SCREN1x_SQ002', 'SCREN1x_SQ003', 'HFOXY2_SQ001', 'HFOXY2_SQ002']\n",
    "lab1xx = ['LAB1x_2', 'LAB1x_3', 'LAB1x_4', 'DIAG1x_1', 'DIAG1x_2', 'DIAG1x_3', 'DIAG1x_4', 'DIAG2x_1', 'DIAG2x_2', 'HFIPC1x_1', 'HFIPC1x_2', 'HFIPC1x_3', 'HFIPC1x_4', \n",
    "          'MORGUE1x_1', 'MORGUE1x_2', 'MORGUE1x_3', 'MORGUE1x_4', 'MORGUE1x_5', 'HFFUNCTx_1', 'HFFUNCTx_2', 'DIAG3x_1', 'DIAG3x_2', 'DIAG3x_3', 'DIAG3x_4']\n",
    "triage1x = ['DIAG2', 'DIAG3']\n",
    "hfinp1yx = ['HFEQP1y', 'HRCAP1y', 'HFIPC2y']\n",
    "hfgapsx = ['HFGAPS1_2', 'HFGAPS1_3']\n",
    "hfipc3xx = ['HFIPC3x_2', 'HFIPC3x_3']\n",
    "list_of_column_lists = [triage1x, hfinp3x, hfinp1x, hfinp1yx, lab1xx, hfipc3xx, hfgapsx]\n",
    "assert len(list_of_column_lists) == len(reduced_list_of_categorical_dataframes)"
   ]
  },
  {
   "cell_type": "code",
   "execution_count": 24,
   "id": "5d331e6e-dfd3-410b-b004-f8864ea88c66",
   "metadata": {},
   "outputs": [],
   "source": [
    "assert original_shape == df.shape"
   ]
  },
  {
   "cell_type": "code",
   "execution_count": 25,
   "id": "0a431de2-4d08-4866-b609-d5dddaedbf9a",
   "metadata": {},
   "outputs": [],
   "source": [
    "for col in hfinp1x:\n",
    "    df.loc[df[col] == 'Suffisant', col] = 'Suffisante'\n",
    "    df.loc[df[col] == 'Insuffisant', col] = 'Insuffisante'\n",
    "    df.loc[df[col] == 'Disponible mais insuffisant', col] = 'Disponible mais insuffisante'\n",
    "    df.loc[df[col] == 'Disponible et suffisant', col] = 'Disponible et suffisante'"
   ]
  },
  {
   "cell_type": "code",
   "execution_count": 26,
   "id": "3576e020-aee6-49e3-ae60-abff1deffe25",
   "metadata": {},
   "outputs": [],
   "source": [
    "for i, col in enumerate(list_of_unique_categorical_columns):\n",
    "    df = df.merge(list_of_unique_categorical_dataframes[i], left_on=col, right_on='CATEGORIES', how='left')\n",
    "    df = df.drop(['CATEGORIES', col], axis=1)\n",
    "    df = df.rename(columns={'ID': col})\n",
    "assert original_shape == df.shape"
   ]
  },
  {
   "cell_type": "code",
   "execution_count": 27,
   "id": "d4185233-e65f-4853-a665-78d815b596d9",
   "metadata": {},
   "outputs": [],
   "source": [
    "for i, data in enumerate(reduced_list_of_categorical_dataframes):\n",
    "    list_of_columns = list_of_column_lists[i]\n",
    "    df = convert_to_numerical_category(df, data, list_of_columns)"
   ]
  },
  {
   "cell_type": "code",
   "execution_count": 28,
   "id": "76c44bb2-16f0-4f76-a818-67f7aaa75485",
   "metadata": {},
   "outputs": [],
   "source": [
    "for col in ['last_synced', 'date']:\n",
    "    df[col] = pd.to_datetime(df[col])"
   ]
  },
  {
   "cell_type": "code",
   "execution_count": 29,
   "id": "6c88991f-1a3f-4262-85aa-99e9c93fca3b",
   "metadata": {},
   "outputs": [],
   "source": [
    "float_columns = df.loc[:, df.dtypes == float].columns.tolist()\n",
    "float_columns.remove('MoSDGPS_SQ001')\n",
    "float_columns.remove('MoSDGPS_SQ002')"
   ]
  },
  {
   "cell_type": "code",
   "execution_count": 30,
   "id": "3a14f5a6-ed6b-42bb-8c1f-d1aa41b118b9",
   "metadata": {},
   "outputs": [],
   "source": [
    "for col in float_columns:\n",
    "    df[col] = df[col].astype('Int64')"
   ]
  },
  {
   "cell_type": "code",
   "execution_count": 31,
   "id": "77cf61b6-8210-4583-9dbf-ec8f77e4cbdb",
   "metadata": {},
   "outputs": [],
   "source": [
    "assert df.shape == original_shape\n",
    "df = df[original_column_order]"
   ]
  },
  {
   "cell_type": "code",
   "execution_count": 32,
   "id": "7d1f73cb-ccd0-4c49-a110-788c6470bd8c",
   "metadata": {},
   "outputs": [],
   "source": [
    "df.to_csv('data/HeRAMS_Mali_COVID_Normalized.csv', index=False)"
   ]
  },
  {
   "cell_type": "code",
   "execution_count": 33,
   "id": "3bc7ba5f-6a18-4590-9c2b-afbb8c4b585b",
   "metadata": {},
   "outputs": [],
   "source": [
    "for i, d in enumerate(list_of_unique_categorical_dataframes):\n",
    "    d = d.drop('ID', axis=1)\n",
    "    col = list_of_unique_categorical_columns[i]\n",
    "    d.to_csv(f'data/herams_{col}_categories.csv', index=False)"
   ]
  },
  {
   "cell_type": "code",
   "execution_count": 34,
   "id": "d802a6ad-11e5-4431-8214-41ec3130f7c1",
   "metadata": {},
   "outputs": [],
   "source": [
    "df_columns = pd.Series(df.columns).to_frame()\n",
    "df_columns = df_columns.rename(columns={0: 'Short_Name'})\n",
    "column_names = column_names.merge(df_columns, how='right', on='Short_Name')"
   ]
  },
  {
   "cell_type": "code",
   "execution_count": 35,
   "id": "4c512f0d-be11-44cd-92f1-befb04c99c1a",
   "metadata": {},
   "outputs": [],
   "source": [
    "column_names.loc[column_names['Short_Name'] == 'REGION', 'Long_Name'] = 'Region'\n",
    "column_names.loc[column_names['Short_Name'] == 'CERCLE', 'Long_Name'] = 'District Sanitaire'"
   ]
  },
  {
   "cell_type": "code",
   "execution_count": 36,
   "id": "f4979e9e-d677-44a9-9fa9-4276a205d5be",
   "metadata": {},
   "outputs": [],
   "source": [
    "column_names.to_csv('data/herams_covid_column_names.csv', index=False)"
   ]
  },
  {
   "cell_type": "code",
   "execution_count": 37,
   "id": "a61b12ab-dc0e-452e-81c7-7f3ff2ca9692",
   "metadata": {},
   "outputs": [
    {
     "data": {
      "text/plain": [
       "4     64\n",
       "9     15\n",
       "5      3\n",
       "10     2\n",
       "11     2\n",
       "Name: MoSD3, dtype: int64"
      ]
     },
     "execution_count": 37,
     "metadata": {},
     "output_type": "execute_result"
    }
   ],
   "source": [
    "df.MoSD3.value_counts()"
   ]
  },
  {
   "cell_type": "code",
   "execution_count": 38,
   "id": "182dd374-eaf2-441a-9d17-3762a3ef653a",
   "metadata": {},
   "outputs": [],
   "source": [
    "df2 = pd.read_excel('data/HeRAMS_Mali_COVID_20012021.xlsx', header=1)"
   ]
  },
  {
   "cell_type": "code",
   "execution_count": 39,
   "id": "758a7134-bab0-4797-8ebe-8f6336f822aa",
   "metadata": {},
   "outputs": [
    {
     "data": {
      "text/plain": [
       "CSREF: Centre de Santé de Référence    64\n",
       "Hôpital                                15\n",
       "Other                                   3\n",
       "Laboratoire P2                          2\n",
       "Laboratoire P3                          2\n",
       "Name: MoSD3, dtype: int64"
      ]
     },
     "execution_count": 39,
     "metadata": {},
     "output_type": "execute_result"
    }
   ],
   "source": [
    "df2.MoSD3.value_counts()"
   ]
  },
  {
   "cell_type": "code",
   "execution_count": null,
   "id": "8ef49de7-de92-416b-9e84-c0897e175ffa",
   "metadata": {},
   "outputs": [],
   "source": []
  }
 ],
 "metadata": {
  "kernelspec": {
   "display_name": "nlu",
   "language": "python",
   "name": "nlu"
  },
  "language_info": {
   "codemirror_mode": {
    "name": "ipython",
    "version": 3
   },
   "file_extension": ".py",
   "mimetype": "text/x-python",
   "name": "python",
   "nbconvert_exporter": "python",
   "pygments_lexer": "ipython3",
   "version": "3.8.12"
  }
 },
 "nbformat": 4,
 "nbformat_minor": 5
}
