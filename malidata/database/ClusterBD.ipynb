{
 "cells": [
  {
   "cell_type": "code",
   "execution_count": 1,
   "metadata": {},
   "outputs": [],
   "source": [
    "import pandas as pd\n",
    "import numpy as np\n",
    "import os\n",
    "from helper_functions import *"
   ]
  },
  {
   "cell_type": "markdown",
   "metadata": {},
   "source": [
    "### Loading and Cleaning Datasets"
   ]
  },
  {
   "cell_type": "code",
   "execution_count": 2,
   "metadata": {},
   "outputs": [
    {
     "name": "stdout",
     "output_type": "stream",
     "text": [
      "Shape of pop dataframe: (765, 6)\n",
      "Shape of hf dataframe: (11621, 27)\n"
     ]
    }
   ],
   "source": [
    "pop = pd.read_excel('data/clusterBD.xlsx', sheet_name='population')\n",
    "hf = pd.read_excel('data/clusterBD.xlsx', sheet_name='W5')\n",
    "print(f'Shape of pop dataframe: {pop.shape}\\nShape of hf dataframe: {hf.shape}')"
   ]
  },
  {
   "cell_type": "code",
   "execution_count": 3,
   "metadata": {},
   "outputs": [],
   "source": [
    "hf = clean_strings(hf, ['REGION', 'DISTRICT-SANITAIRE', 'AIRE-SANTE', 'SIGLE'])\n",
    "hf = hf[hf['DISTRICT-SANITAIRE'].notna()]\n",
    "hf = hf.drop('datesaisie', axis=1)"
   ]
  },
  {
   "cell_type": "code",
   "execution_count": 4,
   "metadata": {},
   "outputs": [],
   "source": [
    "hf.loc[hf['DISTRICT-SANITAIRE'] == 'COMMUNE 1', 'DISTRICT-SANITAIRE'] = 'COMMUNE I'\n",
    "hf.loc[hf['DISTRICT-SANITAIRE'] == 'COMMUNE 2', 'DISTRICT-SANITAIRE'] = 'COMMUNE II'\n",
    "hf.loc[hf['DISTRICT-SANITAIRE'] == 'COMMUNE 3', 'DISTRICT-SANITAIRE'] = 'COMMUNE III'\n",
    "hf.loc[hf['DISTRICT-SANITAIRE'] == 'COMMUNE 4', 'DISTRICT-SANITAIRE'] = 'COMMUNE IV'\n",
    "hf.loc[hf['DISTRICT-SANITAIRE'] == 'COMMUNE 5', 'DISTRICT-SANITAIRE'] = 'COMMUNE V'\n",
    "hf.loc[hf['DISTRICT-SANITAIRE'] == 'COMMUNE 6', 'DISTRICT-SANITAIRE'] = 'COMMUNE VI'\n",
    "pop.loc[pop.cercle == 'DJENNEE', 'cercle'] = 'DJENNE'"
   ]
  },
  {
   "cell_type": "code",
   "execution_count": 5,
   "metadata": {},
   "outputs": [],
   "source": [
    "hf.loc[hf['DISTRICT-SANITAIRE'] == 'ACHOURATT', 'DISTRICT-SANITAIRE'] = 'ACHOURAT'\n",
    "hf.loc[hf['DISTRICT-SANITAIRE'] == 'ANSONGO ', 'DISTRICT-SANITAIRE'] = 'ANSONGO'\n",
    "hf.loc[hf['DISTRICT-SANITAIRE'] == 'ALMOUSTRAT', 'DISTRICT-SANITAIRE'] = 'ALMOUSTARAT'\n",
    "hf.loc[hf['DISTRICT-SANITAIRE'] == 'BAFOULABÉ', 'DISTRICT-SANITAIRE'] = 'BAFOULABE'\n",
    "hf.loc[hf['DISTRICT-SANITAIRE'] == 'ARAWANE', 'DISTRICT-SANITAIRE'] = 'ARAOUANE'\n",
    "hf.loc[hf['DISTRICT-SANITAIRE'] == 'BANAMBA ', 'DISTRICT-SANITAIRE'] = 'BANAMBA'\n",
    "hf.loc[hf['DISTRICT-SANITAIRE'] == 'BANKASS ', 'DISTRICT-SANITAIRE'] = 'BANKASS'\n",
    "hf.loc[hf['DISTRICT-SANITAIRE'] == 'BARAOUELI', 'DISTRICT-SANITAIRE'] = 'BAROUELI'\n",
    "hf.loc[hf['DISTRICT-SANITAIRE'] == 'DIRÉ', 'DISTRICT-SANITAIRE'] = 'DIRE'\n",
    "hf.loc[hf['DISTRICT-SANITAIRE'] == 'DIÉMA', 'DISTRICT-SANITAIRE'] = 'DIEMA'\n",
    "hf.loc[hf['DISTRICT-SANITAIRE'] == 'GOURMA RHAROUS', 'DISTRICT-SANITAIRE'] = 'GOURMA-RHAROUS'\n",
    "hf.loc[hf['DISTRICT-SANITAIRE'] == 'MÉNAKA, ANDÉRAMBOUKANE, TIDERMÈNE ET INÉKAR', 'DISTRICT-SANITAIRE'] = 'MENAKA'\n",
    "hf.loc[hf['DISTRICT-SANITAIRE'] == 'NIAFUNKÉ', 'DISTRICT-SANITAIRE'] = 'NIAFUNKE'\n",
    "hf.loc[hf['DISTRICT-SANITAIRE'] == 'OUSSOUBIDIAGNAN', 'DISTRICT-SANITAIRE'] = 'OUSSOUBIDIAGNA'\n",
    "hf.loc[hf['DISTRICT-SANITAIRE'] == 'SÉGOU', 'DISTRICT-SANITAIRE'] = 'SEGOU'\n",
    "hf.loc[hf['DISTRICT-SANITAIRE'] == 'YÉLIMAMÉ', 'DISTRICT-SANITAIRE'] = 'YELIMANE'\n",
    "hf.loc[hf['DISTRICT-SANITAIRE'] == 'YOUWAROU ', 'DISTRICT-SANITAIRE'] = 'YOUWAROU'"
   ]
  },
  {
   "cell_type": "code",
   "execution_count": 6,
   "metadata": {},
   "outputs": [],
   "source": [
    "hf.loc[hf.TYPOLOGIE == 'ONG nationale', 'TYPOLOGIE'] = 'ONG Nationale'"
   ]
  },
  {
   "cell_type": "code",
   "execution_count": 7,
   "metadata": {},
   "outputs": [],
   "source": [
    "hf.loc[hf['SIGLE'] == ' ASDAP\\xa0', 'SIGLE'] = 'ASDAP'\n",
    "hf.loc[hf['SIGLE'] == 'CICR ', 'SIGLE'] = 'CICR'\n",
    "hf.loc[hf['SIGLE'] == 'ENDA- MALI', 'SIGLE'] = 'ENDA-MALI'\n",
    "hf.loc[hf['SIGLE'] == 'GAAS MALI', 'SIGLE'] = 'GAAS-MALI'\n",
    "hf.loc[hf['SIGLE'] == 'IEDA RELIEF', 'SIGLE'] = 'IEDA-RELIEF'\n",
    "hf.loc[hf['SIGLE'] == 'MDM BE', 'SIGLE'] = 'MDMBE'\n",
    "hf.loc[hf['SIGLE'] == 'MSF E', 'SIGLE'] = 'MSF-E'\n",
    "hf.loc[hf['SIGLE'] == 'PU-I', 'SIGLE'] = 'PUI'\n",
    "hf.loc[hf['SIGLE'] == 'SANTÉ  SUD', 'SIGLE'] = 'SANTE SUD'\n",
    "hf.loc[hf['SIGLE'] == 'USAID/HRH 2030', 'SIGLE'] = 'USAID/HRH2030'\n",
    "hf.loc[hf['SIGLE'] == 'PU-I', 'SIGLE'] = 'PUI'"
   ]
  },
  {
   "cell_type": "markdown",
   "metadata": {},
   "source": [
    "### Administrative Areas and Population"
   ]
  },
  {
   "cell_type": "code",
   "execution_count": 8,
   "metadata": {},
   "outputs": [],
   "source": [
    "regions = convert_to_csv(hf.REGION.unique(), 'REGION', 'regions')\n",
    "regions = get_serial_column(regions, ['REGION'], 'RegionIndex')"
   ]
  },
  {
   "cell_type": "code",
   "execution_count": 9,
   "metadata": {},
   "outputs": [],
   "source": [
    "district_sanitaire = regions.merge(hf[['REGION', 'DISTRICT-SANITAIRE']], on='REGION', how='inner')\n",
    "district_sanitaire = district_sanitaire.drop_duplicates('DISTRICT-SANITAIRE', keep='last')\n",
    "district_sanitaire = district_sanitaire.sort_values(by=['RegionIndex', 'DISTRICT-SANITAIRE'])\n",
    "district_sanitaire = district_sanitaire.rename(columns = {'DISTRICT-SANITAIRE': 'CERCLE'})\n",
    "district_sanitaire.drop(['REGION'], axis=1, inplace=True)\n",
    "district_sanitaire = district_sanitaire[['CERCLE', 'RegionIndex']]\n",
    "district_sanitaire.to_csv(\"data/cercle.csv\", index = False)"
   ]
  },
  {
   "cell_type": "code",
   "execution_count": 10,
   "metadata": {},
   "outputs": [],
   "source": [
    "district_sanitaire = get_serial_column(district_sanitaire, ['RegionIndex', 'CERCLE'], 'CercleIndex')"
   ]
  },
  {
   "cell_type": "code",
   "execution_count": 11,
   "metadata": {},
   "outputs": [],
   "source": [
    "commune = district_sanitaire.merge(pop[['cercle', 'commune']], left_on='CERCLE', right_on='cercle', how='inner')\n",
    "assert commune.CERCLE.all() == commune.cercle.all()\n",
    "commune_copy = commune.copy()\n",
    "commune = commune.drop(['cercle', 'CERCLE'], axis=1)\n",
    "commune = commune.rename(columns = {'commune': 'COMMUNE'})\n",
    "commune = commune[['COMMUNE', 'CercleIndex', 'RegionIndex']]\n",
    "commune.to_csv(\"data/commune.csv\", index = False)"
   ]
  },
  {
   "cell_type": "code",
   "execution_count": 12,
   "metadata": {},
   "outputs": [],
   "source": [
    "commune_copy.drop(['CERCLE'], axis=1, inplace=True)\n",
    "population = commune_copy.merge(pop[['cercle', 'commune', 'masculin', 'feminin', 'datesaisie']], on=['cercle', 'commune'])\n",
    "population.reset_index(inplace=True)\n",
    "population['index'] += 1\n",
    "population = population.rename(columns = {'index': 'CommuneIndex'})\n",
    "population = population.drop(['cercle', 'commune'], axis=1)\n",
    "population = population[['RegionIndex', 'CercleIndex', 'CommuneIndex', 'masculin', 'feminin', 'datesaisie']]\n",
    "population.to_csv(\"data/population.csv\", index = False)"
   ]
  },
  {
   "cell_type": "code",
   "execution_count": 13,
   "metadata": {},
   "outputs": [],
   "source": [
    "assert population.shape == pop.shape\n",
    "assert population.CommuneIndex.nunique() == pop.shape[0]"
   ]
  },
  {
   "cell_type": "markdown",
   "metadata": {},
   "source": [
    "### W5"
   ]
  },
  {
   "cell_type": "code",
   "execution_count": 14,
   "metadata": {},
   "outputs": [],
   "source": [
    "types = convert_to_csv(hf.TYPOLOGIE.unique(), 'TYPOLOGIE', 'typology')\n",
    "sigle = convert_to_csv(hf.SIGLE.unique(), 'SIGLE', 'sigle')"
   ]
  },
  {
   "cell_type": "code",
   "execution_count": 15,
   "metadata": {},
   "outputs": [],
   "source": [
    "types = get_serial_column(types, ['TYPOLOGIE'], 'TypeIndex')\n",
    "sigle = get_serial_column(sigle, ['SIGLE'], 'SigleIndex')"
   ]
  },
  {
   "cell_type": "code",
   "execution_count": 16,
   "metadata": {},
   "outputs": [],
   "source": [
    "hf.loc[hf['AIRE-SANTE'].isnull(), 'AIRE-SANTE'] = 'NOT AVAILABLE'"
   ]
  },
  {
   "cell_type": "code",
   "execution_count": 17,
   "metadata": {},
   "outputs": [],
   "source": [
    "aire_sante = district_sanitaire.merge(hf[['DISTRICT-SANITAIRE', 'AIRE-SANTE']], left_on='CERCLE', right_on='DISTRICT-SANITAIRE', how='inner')\n",
    "assert aire_sante['DISTRICT-SANITAIRE'].all() == aire_sante.CERCLE.all()\n",
    "aire_sante = aire_sante[['AIRE-SANTE', 'CercleIndex', 'RegionIndex']]\n",
    "aire_sante = aire_sante.groupby(['AIRE-SANTE', 'CercleIndex', 'RegionIndex']).size().reset_index(name='Freq')\n",
    "aire_sante = aire_sante.sort_values(by=['RegionIndex', 'CercleIndex', 'AIRE-SANTE'], axis=0)\n",
    "aire_sante = aire_sante.drop(['Freq'], axis=1)\n",
    "aire_sante.to_csv(\"data/aire_sante.csv\", index = False)"
   ]
  },
  {
   "cell_type": "code",
   "execution_count": 18,
   "metadata": {},
   "outputs": [],
   "source": [
    "aire_sante = aire_sante.reset_index().reset_index()\n",
    "aire_sante.drop(['index'], axis=1, inplace=True)\n",
    "aire_sante.level_0 += 1\n",
    "aire_sante = aire_sante.rename(columns={'level_0': 'AireIndex'})"
   ]
  },
  {
   "cell_type": "code",
   "execution_count": 19,
   "metadata": {},
   "outputs": [],
   "source": [
    "indexed_hf = merge_columns(hf, regions, ['REGION'], ['REGION'], ['REGION'])\n",
    "indexed_hf = indexed_hf.rename(columns={'index': 'RegionIndex'})"
   ]
  },
  {
   "cell_type": "code",
   "execution_count": 20,
   "metadata": {},
   "outputs": [],
   "source": [
    "indexed_hf = merge_columns(indexed_hf, district_sanitaire, ['RegionIndex', 'DISTRICT-SANITAIRE'], ['RegionIndex', 'CERCLE'], ['CERCLE', 'DISTRICT-SANITAIRE'])\n",
    "indexed_hf = merge_columns(indexed_hf, aire_sante, ['RegionIndex', 'CercleIndex', 'AIRE-SANTE'], ['RegionIndex', 'CercleIndex', 'AIRE-SANTE'], ['AIRE-SANTE'])\n",
    "indexed_hf = indexed_hf.rename(columns = {'RegionIndex': 'REGION', 'CercleIndex': 'DISTRICT-SANITAIRE', 'AireIndex': 'AIRE-SANTE'})\n",
    "assert indexed_hf.shape == hf.shape"
   ]
  },
  {
   "cell_type": "code",
   "execution_count": 21,
   "metadata": {},
   "outputs": [],
   "source": [
    "old_new = [(0, 1), (1, 2), ('x', 3), ('X', 4), ('✓', 5), ('***', 6), ('PSA GAINA  BOSSOBON', 7), ('PSA KAREIBANDIAKA', 8), ('PSA INASSAKOK', 9), ('x (Nexus)', 10)]\n",
    "columns = ['PSA', 'EQUIPE MOBILE', 'URENAM', 'URENAS', 'URENI', 'Urgence', 'Transition', 'Developpement']\n",
    "indexed_hf = replace_values(indexed_hf, columns, old_new)"
   ]
  },
  {
   "cell_type": "code",
   "execution_count": 22,
   "metadata": {},
   "outputs": [],
   "source": [
    "functional = []\n",
    "for i in old_new:\n",
    "    functional.append(i[0])\n",
    "services = pd.Series(functional).to_frame()\n",
    "services.reset_index(inplace=True)\n",
    "services = services.rename(columns = {0: 'Functional'})\n",
    "services.drop('index', axis=1, inplace=True)\n",
    "services.to_csv(f\"data/services_functional.csv\", index = False)"
   ]
  },
  {
   "cell_type": "code",
   "execution_count": 23,
   "metadata": {},
   "outputs": [],
   "source": [
    "list_fonctionnel = ['fonctionnel', ' fonctionnel', 'Foncionnel', 'F', 'Fonctionnel ( CSRef)', 'Fonctionnel ']\n",
    "list_non_fonctionnel = ['Non fonctionnel', 'NF', 'Non-fonctionnel', 'x']\n",
    "indexed_hf['Etat'] = indexed_hf['Etat'].replace(list_fonctionnel, 'Fonctionnel')\n",
    "indexed_hf['Etat'] = indexed_hf['Etat'].replace(list_non_fonctionnel, 'Non Fonctionnel')\n",
    "indexed_hf['Etat'] = indexed_hf['Etat'].replace(['OUI', 'oui'], 'Oui')\n",
    "indexed_hf['Etat'] = indexed_hf['Etat'].replace('non', 'Non')\n",
    "indexed_hf['Etat'] = indexed_hf['Etat'].replace(np.nan, 'Missing')"
   ]
  },
  {
   "cell_type": "code",
   "execution_count": 24,
   "metadata": {},
   "outputs": [],
   "source": [
    "etat = convert_to_csv(indexed_hf.Etat.unique(), 'Etat', 'etat')\n",
    "etat = get_serial_column(etat, ['Etat'], 'EtatIndex')"
   ]
  },
  {
   "cell_type": "code",
   "execution_count": 25,
   "metadata": {},
   "outputs": [],
   "source": [
    "indexed_hf = merge_columns(indexed_hf, etat, ['Etat'], ['Etat'], ['Etat'])\n",
    "indexed_hf = merge_columns(indexed_hf, types, ['TYPOLOGIE'], ['TYPOLOGIE'], ['TYPOLOGIE'])\n",
    "indexed_hf = merge_columns(indexed_hf, sigle, ['SIGLE'], ['SIGLE'], ['SIGLE'])"
   ]
  },
  {
   "cell_type": "code",
   "execution_count": 26,
   "metadata": {},
   "outputs": [],
   "source": [
    "indexed_hf = indexed_hf.rename(columns={'EtatIndex': 'Etat', 'TypeIndex': 'TYPOLOGIE', 'SigleIndex': 'SIGLE'})"
   ]
  },
  {
   "cell_type": "code",
   "execution_count": 27,
   "metadata": {},
   "outputs": [],
   "source": [
    "reordered_columns = ['ID', 'TYPOLOGIE', 'NOM', 'SIGLE', 'REGION', 'DISTRICT-SANITAIRE', 'AIRE-SANTE', 'HOPITAL', 'CSREF', 'CSCOM', 'PSA', 'EQUIPE MOBILE', 'SOINS-DE', 'URENAM', 'URENAS', 'URENI', 'Population', 'Latitude(X)',\n",
    "                     'Longitude(Y)', 'Etat', 'Urgence', 'Transition', 'Developpement', 'debut', 'fin', 'Financements']"
   ]
  },
  {
   "cell_type": "code",
   "execution_count": 28,
   "metadata": {},
   "outputs": [],
   "source": [
    "indexed_hf = indexed_hf.loc[:, reordered_columns]\n",
    "indexed_hf = indexed_hf.sort_values(by='ID', axis=0)"
   ]
  },
  {
   "cell_type": "code",
   "execution_count": 29,
   "metadata": {},
   "outputs": [],
   "source": [
    "indexed_hf.to_csv(\"data/service_availability.csv\", index = False)"
   ]
  }
 ],
 "metadata": {
  "kernelspec": {
   "display_name": "nlu",
   "language": "python",
   "name": "nlu"
  },
  "language_info": {
   "codemirror_mode": {
    "name": "ipython",
    "version": 3
   },
   "file_extension": ".py",
   "mimetype": "text/x-python",
   "name": "python",
   "nbconvert_exporter": "python",
   "pygments_lexer": "ipython3",
   "version": "3.8.12"
  }
 },
 "nbformat": 4,
 "nbformat_minor": 4
}
